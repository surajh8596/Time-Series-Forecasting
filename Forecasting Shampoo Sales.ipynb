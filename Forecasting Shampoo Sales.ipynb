{
 "cells": [
  {
   "cell_type": "markdown",
   "id": "ca91c83e",
   "metadata": {},
   "source": [
    "### Import Required Library"
   ]
  },
  {
   "cell_type": "code",
   "execution_count": 1,
   "id": "99ee58a4",
   "metadata": {},
   "outputs": [],
   "source": [
    "import pandas as pd\n",
    "import numpy as np\n",
    "import matplotlib.pyplot as plt\n",
    "import seaborn as sns\n",
    "import warnings\n",
    "warnings.filterwarnings(\"ignore\")"
   ]
  },
  {
   "cell_type": "markdown",
   "id": "51d48bfc",
   "metadata": {},
   "source": [
    "### Load & Read the Data"
   ]
  },
  {
   "cell_type": "code",
   "execution_count": 2,
   "id": "6ad84944",
   "metadata": {},
   "outputs": [
    {
     "data": {
      "text/html": [
       "<div>\n",
       "<style scoped>\n",
       "    .dataframe tbody tr th:only-of-type {\n",
       "        vertical-align: middle;\n",
       "    }\n",
       "\n",
       "    .dataframe tbody tr th {\n",
       "        vertical-align: top;\n",
       "    }\n",
       "\n",
       "    .dataframe thead th {\n",
       "        text-align: right;\n",
       "    }\n",
       "</style>\n",
       "<table border=\"1\" class=\"dataframe\">\n",
       "  <thead>\n",
       "    <tr style=\"text-align: right;\">\n",
       "      <th></th>\n",
       "      <th>Month</th>\n",
       "      <th>Sales</th>\n",
       "    </tr>\n",
       "  </thead>\n",
       "  <tbody>\n",
       "    <tr>\n",
       "      <th>0</th>\n",
       "      <td>2019-01-01</td>\n",
       "      <td>266.0</td>\n",
       "    </tr>\n",
       "    <tr>\n",
       "      <th>1</th>\n",
       "      <td>2019-02-01</td>\n",
       "      <td>145.9</td>\n",
       "    </tr>\n",
       "    <tr>\n",
       "      <th>2</th>\n",
       "      <td>2019-03-01</td>\n",
       "      <td>183.1</td>\n",
       "    </tr>\n",
       "    <tr>\n",
       "      <th>3</th>\n",
       "      <td>2019-04-01</td>\n",
       "      <td>119.3</td>\n",
       "    </tr>\n",
       "    <tr>\n",
       "      <th>4</th>\n",
       "      <td>2019-05-01</td>\n",
       "      <td>180.3</td>\n",
       "    </tr>\n",
       "  </tbody>\n",
       "</table>\n",
       "</div>"
      ],
      "text/plain": [
       "       Month  Sales\n",
       "0 2019-01-01  266.0\n",
       "1 2019-02-01  145.9\n",
       "2 2019-03-01  183.1\n",
       "3 2019-04-01  119.3\n",
       "4 2019-05-01  180.3"
      ]
     },
     "execution_count": 2,
     "metadata": {},
     "output_type": "execute_result"
    }
   ],
   "source": [
    "df=pd.read_excel('D:\\PGP IN DATA SCIENCE with Careerera\\Data Sets\\data-for-time-series\\\\shampoo_sales.xlsx')\n",
    "df.head()"
   ]
  },
  {
   "cell_type": "code",
   "execution_count": 3,
   "id": "a8ca91ee",
   "metadata": {},
   "outputs": [
    {
     "data": {
      "text/plain": [
       "(36, 2)"
      ]
     },
     "execution_count": 3,
     "metadata": {},
     "output_type": "execute_result"
    }
   ],
   "source": [
    "# shape\n",
    "df.shape"
   ]
  },
  {
   "cell_type": "code",
   "execution_count": 4,
   "id": "b48f1bea",
   "metadata": {},
   "outputs": [
    {
     "data": {
      "text/plain": [
       "72"
      ]
     },
     "execution_count": 4,
     "metadata": {},
     "output_type": "execute_result"
    }
   ],
   "source": [
    "# size\n",
    "df.size"
   ]
  },
  {
   "cell_type": "code",
   "execution_count": 5,
   "id": "57cbde9f",
   "metadata": {},
   "outputs": [
    {
     "data": {
      "text/plain": [
       "Index(['Month', 'Sales'], dtype='object')"
      ]
     },
     "execution_count": 5,
     "metadata": {},
     "output_type": "execute_result"
    }
   ],
   "source": [
    "# columns\n",
    "df.columns"
   ]
  },
  {
   "cell_type": "code",
   "execution_count": 6,
   "id": "d5fad609",
   "metadata": {},
   "outputs": [
    {
     "data": {
      "text/plain": [
       "Month    datetime64[ns]\n",
       "Sales           float64\n",
       "dtype: object"
      ]
     },
     "execution_count": 6,
     "metadata": {},
     "output_type": "execute_result"
    }
   ],
   "source": [
    "# data types\n",
    "df.dtypes"
   ]
  },
  {
   "cell_type": "code",
   "execution_count": 7,
   "id": "02778c51",
   "metadata": {},
   "outputs": [
    {
     "name": "stdout",
     "output_type": "stream",
     "text": [
      "<class 'pandas.core.frame.DataFrame'>\n",
      "RangeIndex: 36 entries, 0 to 35\n",
      "Data columns (total 2 columns):\n",
      " #   Column  Non-Null Count  Dtype         \n",
      "---  ------  --------------  -----         \n",
      " 0   Month   36 non-null     datetime64[ns]\n",
      " 1   Sales   36 non-null     float64       \n",
      "dtypes: datetime64[ns](1), float64(1)\n",
      "memory usage: 704.0 bytes\n"
     ]
    }
   ],
   "source": [
    "# info()\n",
    "df.info()"
   ]
  },
  {
   "cell_type": "code",
   "execution_count": 8,
   "id": "1df89ba9",
   "metadata": {},
   "outputs": [
    {
     "data": {
      "text/html": [
       "<div>\n",
       "<style scoped>\n",
       "    .dataframe tbody tr th:only-of-type {\n",
       "        vertical-align: middle;\n",
       "    }\n",
       "\n",
       "    .dataframe tbody tr th {\n",
       "        vertical-align: top;\n",
       "    }\n",
       "\n",
       "    .dataframe thead th {\n",
       "        text-align: right;\n",
       "    }\n",
       "</style>\n",
       "<table border=\"1\" class=\"dataframe\">\n",
       "  <thead>\n",
       "    <tr style=\"text-align: right;\">\n",
       "      <th></th>\n",
       "      <th>Sales</th>\n",
       "    </tr>\n",
       "  </thead>\n",
       "  <tbody>\n",
       "    <tr>\n",
       "      <th>count</th>\n",
       "      <td>36.000000</td>\n",
       "    </tr>\n",
       "    <tr>\n",
       "      <th>mean</th>\n",
       "      <td>312.600000</td>\n",
       "    </tr>\n",
       "    <tr>\n",
       "      <th>std</th>\n",
       "      <td>148.937164</td>\n",
       "    </tr>\n",
       "    <tr>\n",
       "      <th>min</th>\n",
       "      <td>119.300000</td>\n",
       "    </tr>\n",
       "    <tr>\n",
       "      <th>25%</th>\n",
       "      <td>192.450000</td>\n",
       "    </tr>\n",
       "    <tr>\n",
       "      <th>50%</th>\n",
       "      <td>280.150000</td>\n",
       "    </tr>\n",
       "    <tr>\n",
       "      <th>75%</th>\n",
       "      <td>411.100000</td>\n",
       "    </tr>\n",
       "    <tr>\n",
       "      <th>max</th>\n",
       "      <td>682.000000</td>\n",
       "    </tr>\n",
       "  </tbody>\n",
       "</table>\n",
       "</div>"
      ],
      "text/plain": [
       "            Sales\n",
       "count   36.000000\n",
       "mean   312.600000\n",
       "std    148.937164\n",
       "min    119.300000\n",
       "25%    192.450000\n",
       "50%    280.150000\n",
       "75%    411.100000\n",
       "max    682.000000"
      ]
     },
     "execution_count": 8,
     "metadata": {},
     "output_type": "execute_result"
    }
   ],
   "source": [
    "# statistical measures\n",
    "df.describe()"
   ]
  },
  {
   "cell_type": "code",
   "execution_count": 9,
   "id": "f94f7eb9",
   "metadata": {},
   "outputs": [
    {
     "data": {
      "text/plain": [
       "Month    0\n",
       "Sales    0\n",
       "dtype: int64"
      ]
     },
     "execution_count": 9,
     "metadata": {},
     "output_type": "execute_result"
    }
   ],
   "source": [
    "# missing values\n",
    "df.isna().sum()"
   ]
  },
  {
   "cell_type": "markdown",
   "id": "b418f854",
   "metadata": {},
   "source": [
    "### Plot Sales"
   ]
  },
  {
   "cell_type": "code",
   "execution_count": 3,
   "id": "202b539b",
   "metadata": {},
   "outputs": [
    {
     "data": {
      "text/html": [
       "<div>\n",
       "<style scoped>\n",
       "    .dataframe tbody tr th:only-of-type {\n",
       "        vertical-align: middle;\n",
       "    }\n",
       "\n",
       "    .dataframe tbody tr th {\n",
       "        vertical-align: top;\n",
       "    }\n",
       "\n",
       "    .dataframe thead th {\n",
       "        text-align: right;\n",
       "    }\n",
       "</style>\n",
       "<table border=\"1\" class=\"dataframe\">\n",
       "  <thead>\n",
       "    <tr style=\"text-align: right;\">\n",
       "      <th></th>\n",
       "      <th>Sales</th>\n",
       "    </tr>\n",
       "    <tr>\n",
       "      <th>Date</th>\n",
       "      <th></th>\n",
       "    </tr>\n",
       "  </thead>\n",
       "  <tbody>\n",
       "    <tr>\n",
       "      <th>2019-01-01</th>\n",
       "      <td>266.0</td>\n",
       "    </tr>\n",
       "    <tr>\n",
       "      <th>2019-02-01</th>\n",
       "      <td>145.9</td>\n",
       "    </tr>\n",
       "    <tr>\n",
       "      <th>2019-03-01</th>\n",
       "      <td>183.1</td>\n",
       "    </tr>\n",
       "    <tr>\n",
       "      <th>2019-04-01</th>\n",
       "      <td>119.3</td>\n",
       "    </tr>\n",
       "    <tr>\n",
       "      <th>2019-05-01</th>\n",
       "      <td>180.3</td>\n",
       "    </tr>\n",
       "  </tbody>\n",
       "</table>\n",
       "</div>"
      ],
      "text/plain": [
       "            Sales\n",
       "Date             \n",
       "2019-01-01  266.0\n",
       "2019-02-01  145.9\n",
       "2019-03-01  183.1\n",
       "2019-04-01  119.3\n",
       "2019-05-01  180.3"
      ]
     },
     "execution_count": 3,
     "metadata": {},
     "output_type": "execute_result"
    }
   ],
   "source": [
    "df.rename({'Month':'Date'}, axis=1, inplace=True)\n",
    "df.set_index('Date', inplace=True)\n",
    "df.head()"
   ]
  },
  {
   "cell_type": "code",
   "execution_count": 11,
   "id": "cfa229c4",
   "metadata": {},
   "outputs": [
    {
     "data": {
      "image/png": "[encoded data removed]",
      "text/plain": [
       "<Figure size 864x288 with 1 Axes>"
      ]
     },
     "metadata": {
      "needs_background": "light"
     },
     "output_type": "display_data"
    }
   ],
   "source": [
    "plt.figure(figsize=(12,4))\n",
    "plt.plot(df)\n",
    "plt.xticks(rotation=90);"
   ]
  },
  {
   "cell_type": "markdown",
   "id": "ab30954a",
   "metadata": {},
   "source": [
    "* Trend is present but no Seasonality."
   ]
  },
  {
   "cell_type": "code",
   "execution_count": 12,
   "id": "04f90c1f",
   "metadata": {},
   "outputs": [
    {
     "data": {
      "image/png": "[encoded data removed]",
      "text/plain": [
       "<Figure size 864x288 with 1 Axes>"
      ]
     },
     "metadata": {
      "needs_background": "light"
     },
     "output_type": "display_data"
    }
   ],
   "source": [
    "plt.figure(figsize=(12,4))\n",
    "pd.plotting.autocorrelation_plot(df);"
   ]
  },
  {
   "cell_type": "markdown",
   "id": "62f89c69",
   "metadata": {},
   "source": [
    "### ACF & PACF plot"
   ]
  },
  {
   "cell_type": "code",
   "execution_count": 13,
   "id": "b1a8ab63",
   "metadata": {},
   "outputs": [],
   "source": [
    "from statsmodels.graphics.tsaplots import plot_acf, plot_pacf"
   ]
  },
  {
   "cell_type": "code",
   "execution_count": 14,
   "id": "4d4d5fe6",
   "metadata": {},
   "outputs": [
    {
     "data": {
      "text/plain": [
       "(<Figure size 432x288 with 1 Axes>, <Figure size 432x288 with 1 Axes>)"
      ]
     },
     "execution_count": 14,
     "metadata": {},
     "output_type": "execute_result"
    },
    {
     "data": {
      "text/plain": [
       "<Figure size 864x288 with 0 Axes>"
      ]
     },
     "metadata": {},
     "output_type": "display_data"
    },
    {
     "data": {
      "image/png": "[encoded data removed]",
      "text/plain": [
       "<Figure size 432x288 with 1 Axes>"
      ]
     },
     "metadata": {
      "needs_background": "light"
     },
     "output_type": "display_data"
    },
    {
     "data": {
      "image/png": "[encoded data removed]",
      "text/plain": [
       "<Figure size 432x288 with 1 Axes>"
      ]
     },
     "metadata": {
      "needs_background": "light"
     },
     "output_type": "display_data"
    }
   ],
   "source": [
    "plt.figure(figsize=(12,4))\n",
    "plot_acf(df), plot_pacf(df)"
   ]
  },
  {
   "cell_type": "markdown",
   "id": "b0e982d4",
   "metadata": {},
   "source": [
    "* From auto correlation graph we get p value AR model\n",
    "* From Partial auto correlation graph we get q value MA model"
   ]
  },
  {
   "cell_type": "code",
   "execution_count": 4,
   "id": "3a42dabd",
   "metadata": {
    "scrolled": true
   },
   "outputs": [
    {
     "name": "stdout",
     "output_type": "stream",
     "text": [
      "(30, 1) (6, 1)\n"
     ]
    }
   ],
   "source": [
    "train=df[:30]\n",
    "test=df[30:]\n",
    "print(train.shape, test.shape)"
   ]
  },
  {
   "cell_type": "markdown",
   "id": "a3832a65",
   "metadata": {},
   "source": [
    "## Time Series Models"
   ]
  },
  {
   "cell_type": "markdown",
   "id": "39d1e7e9",
   "metadata": {},
   "source": [
    "### 1. Naive Method"
   ]
  },
  {
   "cell_type": "code",
   "execution_count": 5,
   "id": "d46e9e66",
   "metadata": {},
   "outputs": [
    {
     "data": {
      "text/plain": [
       "30"
      ]
     },
     "execution_count": 5,
     "metadata": {},
     "output_type": "execute_result"
    }
   ],
   "source": [
    "train_len=len(train)\n",
    "train_len"
   ]
  },
  {
   "cell_type": "code",
   "execution_count": 6,
   "id": "d9f0ed61",
   "metadata": {},
   "outputs": [
    {
     "data": {
      "text/html": [
       "<div>\n",
       "<style scoped>\n",
       "    .dataframe tbody tr th:only-of-type {\n",
       "        vertical-align: middle;\n",
       "    }\n",
       "\n",
       "    .dataframe tbody tr th {\n",
       "        vertical-align: top;\n",
       "    }\n",
       "\n",
       "    .dataframe thead th {\n",
       "        text-align: right;\n",
       "    }\n",
       "</style>\n",
       "<table border=\"1\" class=\"dataframe\">\n",
       "  <thead>\n",
       "    <tr style=\"text-align: right;\">\n",
       "      <th></th>\n",
       "      <th>Sales</th>\n",
       "      <th>naive_forecast</th>\n",
       "    </tr>\n",
       "    <tr>\n",
       "      <th>Date</th>\n",
       "      <th></th>\n",
       "      <th></th>\n",
       "    </tr>\n",
       "  </thead>\n",
       "  <tbody>\n",
       "    <tr>\n",
       "      <th>2021-07-01</th>\n",
       "      <td>575.5</td>\n",
       "      <td>437.4</td>\n",
       "    </tr>\n",
       "    <tr>\n",
       "      <th>2021-08-01</th>\n",
       "      <td>407.6</td>\n",
       "      <td>437.4</td>\n",
       "    </tr>\n",
       "    <tr>\n",
       "      <th>2021-09-01</th>\n",
       "      <td>682.0</td>\n",
       "      <td>437.4</td>\n",
       "    </tr>\n",
       "    <tr>\n",
       "      <th>2021-10-01</th>\n",
       "      <td>475.3</td>\n",
       "      <td>437.4</td>\n",
       "    </tr>\n",
       "    <tr>\n",
       "      <th>2021-11-01</th>\n",
       "      <td>581.3</td>\n",
       "      <td>437.4</td>\n",
       "    </tr>\n",
       "    <tr>\n",
       "      <th>2021-12-01</th>\n",
       "      <td>646.9</td>\n",
       "      <td>437.4</td>\n",
       "    </tr>\n",
       "  </tbody>\n",
       "</table>\n",
       "</div>"
      ],
      "text/plain": [
       "            Sales  naive_forecast\n",
       "Date                             \n",
       "2021-07-01  575.5           437.4\n",
       "2021-08-01  407.6           437.4\n",
       "2021-09-01  682.0           437.4\n",
       "2021-10-01  475.3           437.4\n",
       "2021-11-01  581.3           437.4\n",
       "2021-12-01  646.9           437.4"
      ]
     },
     "execution_count": 6,
     "metadata": {},
     "output_type": "execute_result"
    }
   ],
   "source": [
    "naive=test.copy()\n",
    "naive['naive_forecast']=train['Sales'][train_len-1]\n",
    "naive"
   ]
  },
  {
   "cell_type": "markdown",
   "id": "21f55dd9",
   "metadata": {},
   "source": [
    "#### Plot train test & naive forecast"
   ]
  },
  {
   "cell_type": "code",
   "execution_count": 7,
   "id": "05688f2f",
   "metadata": {},
   "outputs": [
    {
     "data": {
      "image/png": "[encoded data removed]",
      "text/plain": [
       "<Figure size 864x288 with 1 Axes>"
      ]
     },
     "metadata": {
      "needs_background": "light"
     },
     "output_type": "display_data"
    }
   ],
   "source": [
    "plt.figure(figsize=(12,4))\n",
    "plt.plot(train['Sales'], label='Train')\n",
    "plt.plot(test['Sales'], label='Test')\n",
    "plt.plot(naive['naive_forecast'], label='Naive forecast')\n",
    "plt.legend()\n",
    "plt.title('Naive Method');"
   ]
  },
  {
   "cell_type": "code",
   "execution_count": 8,
   "id": "411ec72b",
   "metadata": {},
   "outputs": [
    {
     "data": {
      "text/html": [
       "<div>\n",
       "<style scoped>\n",
       "    .dataframe tbody tr th:only-of-type {\n",
       "        vertical-align: middle;\n",
       "    }\n",
       "\n",
       "    .dataframe tbody tr th {\n",
       "        vertical-align: top;\n",
       "    }\n",
       "\n",
       "    .dataframe thead th {\n",
       "        text-align: right;\n",
       "    }\n",
       "</style>\n",
       "<table border=\"1\" class=\"dataframe\">\n",
       "  <thead>\n",
       "    <tr style=\"text-align: right;\">\n",
       "      <th></th>\n",
       "      <th>Method</th>\n",
       "      <th>RMSE</th>\n",
       "      <th>MAPE</th>\n",
       "    </tr>\n",
       "  </thead>\n",
       "  <tbody>\n",
       "    <tr>\n",
       "      <th>0</th>\n",
       "      <td>Naive method</td>\n",
       "      <td>155.9</td>\n",
       "      <td>22.05</td>\n",
       "    </tr>\n",
       "  </tbody>\n",
       "</table>\n",
       "</div>"
      ],
      "text/plain": [
       "         Method   RMSE   MAPE\n",
       "0  Naive method  155.9  22.05"
      ]
     },
     "execution_count": 8,
     "metadata": {},
     "output_type": "execute_result"
    }
   ],
   "source": [
    "from sklearn.metrics import mean_squared_error\n",
    "rmse = np.sqrt(mean_squared_error(test['Sales'], naive['naive_forecast'])).round(2)\n",
    "mape = np.round(np.mean(np.abs(test['Sales']-naive['naive_forecast'])/test['Sales'])*100,2)\n",
    "\n",
    "results = pd.DataFrame({'Method':['Naive method'], 'MAPE': [mape], 'RMSE': [rmse]})\n",
    "results = results[['Method', 'RMSE', 'MAPE']]\n",
    "results"
   ]
  },
  {
   "cell_type": "markdown",
   "id": "56e281e6",
   "metadata": {},
   "source": [
    "* RMSE is too high."
   ]
  },
  {
   "cell_type": "raw",
   "id": "d6ca008b",
   "metadata": {},
   "source": []
  },
  {
   "cell_type": "markdown",
   "id": "4f6335b5",
   "metadata": {},
   "source": [
    "### 2. Simple Moving method"
   ]
  },
  {
   "cell_type": "code",
   "execution_count": 9,
   "id": "ee025016",
   "metadata": {},
   "outputs": [
    {
     "data": {
      "text/html": [
       "<div>\n",
       "<style scoped>\n",
       "    .dataframe tbody tr th:only-of-type {\n",
       "        vertical-align: middle;\n",
       "    }\n",
       "\n",
       "    .dataframe tbody tr th {\n",
       "        vertical-align: top;\n",
       "    }\n",
       "\n",
       "    .dataframe thead th {\n",
       "        text-align: right;\n",
       "    }\n",
       "</style>\n",
       "<table border=\"1\" class=\"dataframe\">\n",
       "  <thead>\n",
       "    <tr style=\"text-align: right;\">\n",
       "      <th></th>\n",
       "      <th>Sales</th>\n",
       "      <th>simp_avg_forecast</th>\n",
       "    </tr>\n",
       "    <tr>\n",
       "      <th>Date</th>\n",
       "      <th></th>\n",
       "      <th></th>\n",
       "    </tr>\n",
       "  </thead>\n",
       "  <tbody>\n",
       "    <tr>\n",
       "      <th>2021-07-01</th>\n",
       "      <td>575.5</td>\n",
       "      <td>262.833333</td>\n",
       "    </tr>\n",
       "    <tr>\n",
       "      <th>2021-08-01</th>\n",
       "      <td>407.6</td>\n",
       "      <td>262.833333</td>\n",
       "    </tr>\n",
       "    <tr>\n",
       "      <th>2021-09-01</th>\n",
       "      <td>682.0</td>\n",
       "      <td>262.833333</td>\n",
       "    </tr>\n",
       "    <tr>\n",
       "      <th>2021-10-01</th>\n",
       "      <td>475.3</td>\n",
       "      <td>262.833333</td>\n",
       "    </tr>\n",
       "    <tr>\n",
       "      <th>2021-11-01</th>\n",
       "      <td>581.3</td>\n",
       "      <td>262.833333</td>\n",
       "    </tr>\n",
       "    <tr>\n",
       "      <th>2021-12-01</th>\n",
       "      <td>646.9</td>\n",
       "      <td>262.833333</td>\n",
       "    </tr>\n",
       "  </tbody>\n",
       "</table>\n",
       "</div>"
      ],
      "text/plain": [
       "            Sales  simp_avg_forecast\n",
       "Date                                \n",
       "2021-07-01  575.5         262.833333\n",
       "2021-08-01  407.6         262.833333\n",
       "2021-09-01  682.0         262.833333\n",
       "2021-10-01  475.3         262.833333\n",
       "2021-11-01  581.3         262.833333\n",
       "2021-12-01  646.9         262.833333"
      ]
     },
     "execution_count": 9,
     "metadata": {},
     "output_type": "execute_result"
    }
   ],
   "source": [
    "avg=test.copy()\n",
    "avg['simp_avg_forecast']=train['Sales'].mean()\n",
    "avg"
   ]
  },
  {
   "cell_type": "code",
   "execution_count": 10,
   "id": "cf09ab30",
   "metadata": {},
   "outputs": [
    {
     "data": {
      "image/png": "[encoded data removed]",
      "text/plain": [
       "<Figure size 864x288 with 1 Axes>"
      ]
     },
     "metadata": {
      "needs_background": "light"
     },
     "output_type": "display_data"
    }
   ],
   "source": [
    "plt.figure(figsize=(12,4))\n",
    "plt.plot(train['Sales'], label='Train')\n",
    "plt.plot(test['Sales'], label='Test')\n",
    "plt.plot(avg['simp_avg_forecast'], label='Simple average forecast')\n",
    "plt.legend()\n",
    "plt.title('Simple Average Method');"
   ]
  },
  {
   "cell_type": "code",
   "execution_count": 11,
   "id": "7bbb3c60",
   "metadata": {},
   "outputs": [
    {
     "data": {
      "text/html": [
       "<div>\n",
       "<style scoped>\n",
       "    .dataframe tbody tr th:only-of-type {\n",
       "        vertical-align: middle;\n",
       "    }\n",
       "\n",
       "    .dataframe tbody tr th {\n",
       "        vertical-align: top;\n",
       "    }\n",
       "\n",
       "    .dataframe thead th {\n",
       "        text-align: right;\n",
       "    }\n",
       "</style>\n",
       "<table border=\"1\" class=\"dataframe\">\n",
       "  <thead>\n",
       "    <tr style=\"text-align: right;\">\n",
       "      <th></th>\n",
       "      <th>Method</th>\n",
       "      <th>RMSE</th>\n",
       "      <th>MAPE</th>\n",
       "    </tr>\n",
       "  </thead>\n",
       "  <tbody>\n",
       "    <tr>\n",
       "      <th>0</th>\n",
       "      <td>Naive method</td>\n",
       "      <td>155.90</td>\n",
       "      <td>22.05</td>\n",
       "    </tr>\n",
       "    <tr>\n",
       "      <th>0</th>\n",
       "      <td>Simple average method</td>\n",
       "      <td>313.18</td>\n",
       "      <td>51.69</td>\n",
       "    </tr>\n",
       "  </tbody>\n",
       "</table>\n",
       "</div>"
      ],
      "text/plain": [
       "                  Method    RMSE   MAPE\n",
       "0           Naive method  155.90  22.05\n",
       "0  Simple average method  313.18  51.69"
      ]
     },
     "execution_count": 11,
     "metadata": {},
     "output_type": "execute_result"
    }
   ],
   "source": [
    "rmse = np.sqrt(mean_squared_error(test['Sales'], avg['simp_avg_forecast'])).round(2)\n",
    "mape = np.round(np.mean(np.abs(test['Sales']-avg['simp_avg_forecast'])/test['Sales'])*100,2)\n",
    "\n",
    "tempResults = pd.DataFrame({'Method':['Simple average method'], 'RMSE': [rmse],'MAPE': [mape] })\n",
    "results = pd.concat([results, tempResults])\n",
    "results = results[['Method', 'RMSE', 'MAPE']]\n",
    "results"
   ]
  },
  {
   "cell_type": "markdown",
   "id": "f2a3f30f",
   "metadata": {},
   "source": [
    "* RMSE is higher than Naive Method."
   ]
  },
  {
   "cell_type": "raw",
   "id": "99008ebf",
   "metadata": {},
   "source": []
  },
  {
   "cell_type": "markdown",
   "id": "c0a6b0e0",
   "metadata": {},
   "source": [
    "### 3. Simple Moving Average Method"
   ]
  },
  {
   "cell_type": "code",
   "execution_count": 12,
   "id": "32dacd9b",
   "metadata": {},
   "outputs": [
    {
     "data": {
      "text/html": [
       "<div>\n",
       "<style scoped>\n",
       "    .dataframe tbody tr th:only-of-type {\n",
       "        vertical-align: middle;\n",
       "    }\n",
       "\n",
       "    .dataframe tbody tr th {\n",
       "        vertical-align: top;\n",
       "    }\n",
       "\n",
       "    .dataframe thead th {\n",
       "        text-align: right;\n",
       "    }\n",
       "</style>\n",
       "<table border=\"1\" class=\"dataframe\">\n",
       "  <thead>\n",
       "    <tr style=\"text-align: right;\">\n",
       "      <th></th>\n",
       "      <th>Sales</th>\n",
       "      <th>sma_forecast</th>\n",
       "    </tr>\n",
       "    <tr>\n",
       "      <th>Date</th>\n",
       "      <th></th>\n",
       "      <th></th>\n",
       "    </tr>\n",
       "  </thead>\n",
       "  <tbody>\n",
       "    <tr>\n",
       "      <th>2019-01-01</th>\n",
       "      <td>266.0</td>\n",
       "      <td>NaN</td>\n",
       "    </tr>\n",
       "    <tr>\n",
       "      <th>2019-02-01</th>\n",
       "      <td>145.9</td>\n",
       "      <td>NaN</td>\n",
       "    </tr>\n",
       "    <tr>\n",
       "      <th>2019-03-01</th>\n",
       "      <td>183.1</td>\n",
       "      <td>NaN</td>\n",
       "    </tr>\n",
       "    <tr>\n",
       "      <th>2019-04-01</th>\n",
       "      <td>119.3</td>\n",
       "      <td>NaN</td>\n",
       "    </tr>\n",
       "    <tr>\n",
       "      <th>2019-05-01</th>\n",
       "      <td>180.3</td>\n",
       "      <td>NaN</td>\n",
       "    </tr>\n",
       "    <tr>\n",
       "      <th>2019-06-01</th>\n",
       "      <td>168.5</td>\n",
       "      <td>NaN</td>\n",
       "    </tr>\n",
       "    <tr>\n",
       "      <th>2019-07-01</th>\n",
       "      <td>231.8</td>\n",
       "      <td>NaN</td>\n",
       "    </tr>\n",
       "    <tr>\n",
       "      <th>2019-08-01</th>\n",
       "      <td>224.5</td>\n",
       "      <td>NaN</td>\n",
       "    </tr>\n",
       "    <tr>\n",
       "      <th>2019-09-01</th>\n",
       "      <td>192.8</td>\n",
       "      <td>NaN</td>\n",
       "    </tr>\n",
       "    <tr>\n",
       "      <th>2019-10-01</th>\n",
       "      <td>122.9</td>\n",
       "      <td>NaN</td>\n",
       "    </tr>\n",
       "    <tr>\n",
       "      <th>2019-11-01</th>\n",
       "      <td>336.5</td>\n",
       "      <td>NaN</td>\n",
       "    </tr>\n",
       "    <tr>\n",
       "      <th>2019-12-01</th>\n",
       "      <td>185.9</td>\n",
       "      <td>196.458333</td>\n",
       "    </tr>\n",
       "    <tr>\n",
       "      <th>2020-01-01</th>\n",
       "      <td>194.3</td>\n",
       "      <td>190.483333</td>\n",
       "    </tr>\n",
       "    <tr>\n",
       "      <th>2020-02-01</th>\n",
       "      <td>149.5</td>\n",
       "      <td>190.783333</td>\n",
       "    </tr>\n",
       "    <tr>\n",
       "      <th>2020-03-01</th>\n",
       "      <td>210.1</td>\n",
       "      <td>193.033333</td>\n",
       "    </tr>\n",
       "    <tr>\n",
       "      <th>2020-04-01</th>\n",
       "      <td>273.3</td>\n",
       "      <td>205.866667</td>\n",
       "    </tr>\n",
       "    <tr>\n",
       "      <th>2020-05-01</th>\n",
       "      <td>191.4</td>\n",
       "      <td>206.791667</td>\n",
       "    </tr>\n",
       "    <tr>\n",
       "      <th>2020-06-01</th>\n",
       "      <td>287.0</td>\n",
       "      <td>216.666667</td>\n",
       "    </tr>\n",
       "    <tr>\n",
       "      <th>2020-07-01</th>\n",
       "      <td>226.0</td>\n",
       "      <td>216.183333</td>\n",
       "    </tr>\n",
       "    <tr>\n",
       "      <th>2020-08-01</th>\n",
       "      <td>303.6</td>\n",
       "      <td>222.775000</td>\n",
       "    </tr>\n",
       "    <tr>\n",
       "      <th>2020-09-01</th>\n",
       "      <td>289.9</td>\n",
       "      <td>230.866667</td>\n",
       "    </tr>\n",
       "    <tr>\n",
       "      <th>2020-10-01</th>\n",
       "      <td>421.6</td>\n",
       "      <td>255.758333</td>\n",
       "    </tr>\n",
       "    <tr>\n",
       "      <th>2020-11-01</th>\n",
       "      <td>264.5</td>\n",
       "      <td>249.758333</td>\n",
       "    </tr>\n",
       "    <tr>\n",
       "      <th>2020-12-01</th>\n",
       "      <td>342.3</td>\n",
       "      <td>262.791667</td>\n",
       "    </tr>\n",
       "    <tr>\n",
       "      <th>2021-01-01</th>\n",
       "      <td>339.7</td>\n",
       "      <td>274.908333</td>\n",
       "    </tr>\n",
       "    <tr>\n",
       "      <th>2021-02-01</th>\n",
       "      <td>440.4</td>\n",
       "      <td>299.150000</td>\n",
       "    </tr>\n",
       "    <tr>\n",
       "      <th>2021-03-01</th>\n",
       "      <td>315.9</td>\n",
       "      <td>307.966667</td>\n",
       "    </tr>\n",
       "    <tr>\n",
       "      <th>2021-04-01</th>\n",
       "      <td>439.3</td>\n",
       "      <td>321.800000</td>\n",
       "    </tr>\n",
       "    <tr>\n",
       "      <th>2021-05-01</th>\n",
       "      <td>401.3</td>\n",
       "      <td>339.291667</td>\n",
       "    </tr>\n",
       "    <tr>\n",
       "      <th>2021-06-01</th>\n",
       "      <td>437.4</td>\n",
       "      <td>351.825000</td>\n",
       "    </tr>\n",
       "    <tr>\n",
       "      <th>2021-07-01</th>\n",
       "      <td>575.5</td>\n",
       "      <td>351.825000</td>\n",
       "    </tr>\n",
       "    <tr>\n",
       "      <th>2021-08-01</th>\n",
       "      <td>407.6</td>\n",
       "      <td>351.825000</td>\n",
       "    </tr>\n",
       "    <tr>\n",
       "      <th>2021-09-01</th>\n",
       "      <td>682.0</td>\n",
       "      <td>351.825000</td>\n",
       "    </tr>\n",
       "    <tr>\n",
       "      <th>2021-10-01</th>\n",
       "      <td>475.3</td>\n",
       "      <td>351.825000</td>\n",
       "    </tr>\n",
       "    <tr>\n",
       "      <th>2021-11-01</th>\n",
       "      <td>581.3</td>\n",
       "      <td>351.825000</td>\n",
       "    </tr>\n",
       "    <tr>\n",
       "      <th>2021-12-01</th>\n",
       "      <td>646.9</td>\n",
       "      <td>351.825000</td>\n",
       "    </tr>\n",
       "  </tbody>\n",
       "</table>\n",
       "</div>"
      ],
      "text/plain": [
       "            Sales  sma_forecast\n",
       "Date                           \n",
       "2019-01-01  266.0           NaN\n",
       "2019-02-01  145.9           NaN\n",
       "2019-03-01  183.1           NaN\n",
       "2019-04-01  119.3           NaN\n",
       "2019-05-01  180.3           NaN\n",
       "2019-06-01  168.5           NaN\n",
       "2019-07-01  231.8           NaN\n",
       "2019-08-01  224.5           NaN\n",
       "2019-09-01  192.8           NaN\n",
       "2019-10-01  122.9           NaN\n",
       "2019-11-01  336.5           NaN\n",
       "2019-12-01  185.9    196.458333\n",
       "2020-01-01  194.3    190.483333\n",
       "2020-02-01  149.5    190.783333\n",
       "2020-03-01  210.1    193.033333\n",
       "2020-04-01  273.3    205.866667\n",
       "2020-05-01  191.4    206.791667\n",
       "2020-06-01  287.0    216.666667\n",
       "2020-07-01  226.0    216.183333\n",
       "2020-08-01  303.6    222.775000\n",
       "2020-09-01  289.9    230.866667\n",
       "2020-10-01  421.6    255.758333\n",
       "2020-11-01  264.5    249.758333\n",
       "2020-12-01  342.3    262.791667\n",
       "2021-01-01  339.7    274.908333\n",
       "2021-02-01  440.4    299.150000\n",
       "2021-03-01  315.9    307.966667\n",
       "2021-04-01  439.3    321.800000\n",
       "2021-05-01  401.3    339.291667\n",
       "2021-06-01  437.4    351.825000\n",
       "2021-07-01  575.5    351.825000\n",
       "2021-08-01  407.6    351.825000\n",
       "2021-09-01  682.0    351.825000\n",
       "2021-10-01  475.3    351.825000\n",
       "2021-11-01  581.3    351.825000\n",
       "2021-12-01  646.9    351.825000"
      ]
     },
     "execution_count": 12,
     "metadata": {},
     "output_type": "execute_result"
    }
   ],
   "source": [
    "sma = df.copy()\n",
    "sma['sma_forecast'] = df['Sales'].rolling(window=12).mean()\n",
    "sma['sma_forecast'][train_len:] = sma['sma_forecast'][train_len-1]\n",
    "sma"
   ]
  },
  {
   "cell_type": "code",
   "execution_count": 24,
   "id": "018285ca",
   "metadata": {},
   "outputs": [
    {
     "data": {
      "image/png": "[encoded data removed]",
      "text/plain": [
       "<Figure size 864x288 with 1 Axes>"
      ]
     },
     "metadata": {
      "needs_background": "light"
     },
     "output_type": "display_data"
    }
   ],
   "source": [
    "plt.figure(figsize=(12,4))\n",
    "plt.plot(train['Sales'], label='Train')\n",
    "plt.plot(test['Sales'], label='Test')\n",
    "plt.plot(sma['sma_forecast'], label='Simple moving average forecast')\n",
    "plt.legend()\n",
    "plt.title('Simple Moving Average Method');"
   ]
  },
  {
   "cell_type": "code",
   "execution_count": 13,
   "id": "a54393b0",
   "metadata": {},
   "outputs": [
    {
     "data": {
      "text/html": [
       "<div>\n",
       "<style scoped>\n",
       "    .dataframe tbody tr th:only-of-type {\n",
       "        vertical-align: middle;\n",
       "    }\n",
       "\n",
       "    .dataframe tbody tr th {\n",
       "        vertical-align: top;\n",
       "    }\n",
       "\n",
       "    .dataframe thead th {\n",
       "        text-align: right;\n",
       "    }\n",
       "</style>\n",
       "<table border=\"1\" class=\"dataframe\">\n",
       "  <thead>\n",
       "    <tr style=\"text-align: right;\">\n",
       "      <th></th>\n",
       "      <th>Method</th>\n",
       "      <th>RMSE</th>\n",
       "      <th>MAPE</th>\n",
       "    </tr>\n",
       "  </thead>\n",
       "  <tbody>\n",
       "    <tr>\n",
       "      <th>0</th>\n",
       "      <td>Naive method</td>\n",
       "      <td>155.90</td>\n",
       "      <td>22.05</td>\n",
       "    </tr>\n",
       "    <tr>\n",
       "      <th>0</th>\n",
       "      <td>Simple average method</td>\n",
       "      <td>313.18</td>\n",
       "      <td>51.69</td>\n",
       "    </tr>\n",
       "    <tr>\n",
       "      <th>0</th>\n",
       "      <td>Simple moving average forecast</td>\n",
       "      <td>229.90</td>\n",
       "      <td>35.34</td>\n",
       "    </tr>\n",
       "  </tbody>\n",
       "</table>\n",
       "</div>"
      ],
      "text/plain": [
       "                           Method    RMSE   MAPE\n",
       "0                    Naive method  155.90  22.05\n",
       "0           Simple average method  313.18  51.69\n",
       "0  Simple moving average forecast  229.90  35.34"
      ]
     },
     "execution_count": 13,
     "metadata": {},
     "output_type": "execute_result"
    }
   ],
   "source": [
    "rmse = np.sqrt(mean_squared_error(test['Sales'], sma['sma_forecast'][train_len:])).round(2)\n",
    "mape = np.round(np.mean(np.abs(test['Sales']-sma['sma_forecast'][train_len:])/test['Sales'])*100,2)\n",
    "\n",
    "tempResults = pd.DataFrame({'Method':['Simple moving average forecast'], 'RMSE': [rmse],'MAPE': [mape] })\n",
    "results = pd.concat([results, tempResults])\n",
    "results = results[['Method', 'RMSE', 'MAPE']]\n",
    "results"
   ]
  },
  {
   "cell_type": "markdown",
   "id": "6a17882e",
   "metadata": {},
   "source": [
    "* RMSE is better than Simple average method but not good as compare to Naive Method."
   ]
  },
  {
   "cell_type": "raw",
   "id": "1e51f812",
   "metadata": {},
   "source": []
  },
  {
   "cell_type": "markdown",
   "id": "85bb55eb",
   "metadata": {},
   "source": [
    "### 4. Simple Exponential smoothing"
   ]
  },
  {
   "cell_type": "code",
   "execution_count": 14,
   "id": "ab2fd8af",
   "metadata": {},
   "outputs": [
    {
     "name": "stderr",
     "output_type": "stream",
     "text": [
      "C:\\Users\\User\\anaconda3\\lib\\site-packages\\statsmodels\\tsa\\base\\tsa_model.py:471: ValueWarning: No frequency information was provided, so inferred frequency MS will be used.\n",
      "  self._init_dates(dates, freq)\n"
     ]
    }
   ],
   "source": [
    "warnings.filterwarnings('ignore')\n",
    "from statsmodels.tsa.holtwinters import SimpleExpSmoothing\n",
    "model = SimpleExpSmoothing(train['Sales'])\n",
    "model_fit = model.fit(optimized=True)\n",
    "model_fit.params\n",
    "simp_expo= test.copy()\n",
    "simp_expo['simp_expo_forecast'] = model_fit.forecast(len(test))"
   ]
  },
  {
   "cell_type": "code",
   "execution_count": 27,
   "id": "481d54f5",
   "metadata": {},
   "outputs": [
    {
     "data": {
      "image/png": "[encoded data removed]",
      "text/plain": [
       "<Figure size 864x288 with 1 Axes>"
      ]
     },
     "metadata": {
      "needs_background": "light"
     },
     "output_type": "display_data"
    }
   ],
   "source": [
    "plt.figure(figsize=(12,4))\n",
    "plt.plot(train['Sales'], label='Train')\n",
    "plt.plot(test['Sales'], label='Test')\n",
    "plt.plot(simp_expo['simp_expo_forecast'], label='Simple exponential smoothing forecast')\n",
    "plt.legend()\n",
    "plt.title('Simple Exponential Smoothing Method');"
   ]
  },
  {
   "cell_type": "code",
   "execution_count": 15,
   "id": "5d9d0242",
   "metadata": {},
   "outputs": [
    {
     "data": {
      "text/html": [
       "<div>\n",
       "<style scoped>\n",
       "    .dataframe tbody tr th:only-of-type {\n",
       "        vertical-align: middle;\n",
       "    }\n",
       "\n",
       "    .dataframe tbody tr th {\n",
       "        vertical-align: top;\n",
       "    }\n",
       "\n",
       "    .dataframe thead th {\n",
       "        text-align: right;\n",
       "    }\n",
       "</style>\n",
       "<table border=\"1\" class=\"dataframe\">\n",
       "  <thead>\n",
       "    <tr style=\"text-align: right;\">\n",
       "      <th></th>\n",
       "      <th>Method</th>\n",
       "      <th>RMSE</th>\n",
       "      <th>MAPE</th>\n",
       "    </tr>\n",
       "  </thead>\n",
       "  <tbody>\n",
       "    <tr>\n",
       "      <th>0</th>\n",
       "      <td>Naive method</td>\n",
       "      <td>155.90</td>\n",
       "      <td>22.05</td>\n",
       "    </tr>\n",
       "    <tr>\n",
       "      <th>0</th>\n",
       "      <td>Simple average method</td>\n",
       "      <td>313.18</td>\n",
       "      <td>51.69</td>\n",
       "    </tr>\n",
       "    <tr>\n",
       "      <th>0</th>\n",
       "      <td>Simple moving average forecast</td>\n",
       "      <td>229.90</td>\n",
       "      <td>35.34</td>\n",
       "    </tr>\n",
       "    <tr>\n",
       "      <th>0</th>\n",
       "      <td>Simple exponential smoothing forecast</td>\n",
       "      <td>182.55</td>\n",
       "      <td>25.53</td>\n",
       "    </tr>\n",
       "  </tbody>\n",
       "</table>\n",
       "</div>"
      ],
      "text/plain": [
       "                                  Method    RMSE   MAPE\n",
       "0                           Naive method  155.90  22.05\n",
       "0                  Simple average method  313.18  51.69\n",
       "0         Simple moving average forecast  229.90  35.34\n",
       "0  Simple exponential smoothing forecast  182.55  25.53"
      ]
     },
     "execution_count": 15,
     "metadata": {},
     "output_type": "execute_result"
    }
   ],
   "source": [
    "rmse = np.sqrt(mean_squared_error(test['Sales'], simp_expo['simp_expo_forecast'])).round(2)\n",
    "mape = np.round(np.mean(np.abs(test['Sales']-simp_expo['simp_expo_forecast'])/test['Sales'])*100,2)\n",
    "\n",
    "tempResults = pd.DataFrame({'Method':['Simple exponential smoothing forecast'], 'RMSE': [rmse],'MAPE': [mape] })\n",
    "results = pd.concat([results, tempResults])\n",
    "results"
   ]
  },
  {
   "cell_type": "markdown",
   "id": "44c49944",
   "metadata": {},
   "source": [
    "* This method is better than Simple average & Simple moving average method, Performing close to Naive Method."
   ]
  },
  {
   "cell_type": "raw",
   "id": "d10bd59a",
   "metadata": {},
   "source": []
  },
  {
   "cell_type": "markdown",
   "id": "01160d95",
   "metadata": {},
   "source": [
    "### 5. Holt's method with Trend"
   ]
  },
  {
   "cell_type": "code",
   "execution_count": 16,
   "id": "0ccf30f7",
   "metadata": {},
   "outputs": [
    {
     "name": "stdout",
     "output_type": "stream",
     "text": [
      "{'smoothing_level': 0.19741531647570967, 'smoothing_trend': 0.19741531635863224, 'smoothing_seasonal': nan, 'damping_trend': nan, 'initial_level': 172.4873333102201, 'initial_trend': -0.11133506196534998, 'initial_seasons': array([], dtype=float64), 'use_boxcox': False, 'lamda': None, 'remove_bias': False}\n"
     ]
    }
   ],
   "source": [
    "from statsmodels.tsa.holtwinters import ExponentialSmoothing\n",
    "model = ExponentialSmoothing(np.asarray(train['Sales']) ,seasonal_periods=12 ,trend='additive', seasonal=None)\n",
    "model_fit = model.fit(optimized=True)\n",
    "print(model_fit.params)\n",
    "holt_trend = test.copy()\n",
    "holt_trend['holt_trend_forecast'] = model_fit.forecast(len(test))"
   ]
  },
  {
   "cell_type": "code",
   "execution_count": 30,
   "id": "b532eb72",
   "metadata": {},
   "outputs": [
    {
     "data": {
      "image/png": "[encoded data removed]",
      "text/plain": [
       "<Figure size 864x288 with 1 Axes>"
      ]
     },
     "metadata": {
      "needs_background": "light"
     },
     "output_type": "display_data"
    }
   ],
   "source": [
    "plt.figure(figsize=(12,4))\n",
    "plt.plot( train['Sales'], label='Train')\n",
    "plt.plot(test['Sales'], label='Test')\n",
    "plt.plot(holt_trend['holt_trend_forecast'], label='Holt\\'s exponential smoothing forecast')\n",
    "plt.legend()\n",
    "plt.title('Holt\\'s Exponential Smoothing Method');"
   ]
  },
  {
   "cell_type": "code",
   "execution_count": 17,
   "id": "7ff4b6b2",
   "metadata": {},
   "outputs": [
    {
     "data": {
      "text/html": [
       "<div>\n",
       "<style scoped>\n",
       "    .dataframe tbody tr th:only-of-type {\n",
       "        vertical-align: middle;\n",
       "    }\n",
       "\n",
       "    .dataframe tbody tr th {\n",
       "        vertical-align: top;\n",
       "    }\n",
       "\n",
       "    .dataframe thead th {\n",
       "        text-align: right;\n",
       "    }\n",
       "</style>\n",
       "<table border=\"1\" class=\"dataframe\">\n",
       "  <thead>\n",
       "    <tr style=\"text-align: right;\">\n",
       "      <th></th>\n",
       "      <th>Method</th>\n",
       "      <th>RMSE</th>\n",
       "      <th>MAPE</th>\n",
       "    </tr>\n",
       "  </thead>\n",
       "  <tbody>\n",
       "    <tr>\n",
       "      <th>0</th>\n",
       "      <td>Naive method</td>\n",
       "      <td>155.90</td>\n",
       "      <td>22.05</td>\n",
       "    </tr>\n",
       "    <tr>\n",
       "      <th>0</th>\n",
       "      <td>Simple average method</td>\n",
       "      <td>313.18</td>\n",
       "      <td>51.69</td>\n",
       "    </tr>\n",
       "    <tr>\n",
       "      <th>0</th>\n",
       "      <td>Simple moving average forecast</td>\n",
       "      <td>229.90</td>\n",
       "      <td>35.34</td>\n",
       "    </tr>\n",
       "    <tr>\n",
       "      <th>0</th>\n",
       "      <td>Simple exponential smoothing forecast</td>\n",
       "      <td>182.55</td>\n",
       "      <td>25.53</td>\n",
       "    </tr>\n",
       "    <tr>\n",
       "      <th>0</th>\n",
       "      <td>Holt's exponential smoothing method</td>\n",
       "      <td>117.88</td>\n",
       "      <td>16.84</td>\n",
       "    </tr>\n",
       "  </tbody>\n",
       "</table>\n",
       "</div>"
      ],
      "text/plain": [
       "                                  Method    RMSE   MAPE\n",
       "0                           Naive method  155.90  22.05\n",
       "0                  Simple average method  313.18  51.69\n",
       "0         Simple moving average forecast  229.90  35.34\n",
       "0  Simple exponential smoothing forecast  182.55  25.53\n",
       "0    Holt's exponential smoothing method  117.88  16.84"
      ]
     },
     "execution_count": 17,
     "metadata": {},
     "output_type": "execute_result"
    }
   ],
   "source": [
    "rmse = np.sqrt(mean_squared_error(test['Sales'], holt_trend['holt_trend_forecast'])).round(2)\n",
    "mape = np.round(np.mean(np.abs(test['Sales']-holt_trend['holt_trend_forecast'])/test['Sales'])*100,2)\n",
    "\n",
    "tempResults = pd.DataFrame({'Method':['Holt\\'s exponential smoothing method'], 'RMSE': [rmse],'MAPE': [mape] })\n",
    "results = pd.concat([results, tempResults])\n",
    "results = results[['Method', 'RMSE', 'MAPE']]\n",
    "results"
   ]
  },
  {
   "cell_type": "markdown",
   "id": "dd82b1df",
   "metadata": {},
   "source": [
    "* This method is performing better as compare to all previous methods."
   ]
  },
  {
   "cell_type": "raw",
   "id": "875ec952",
   "metadata": {},
   "source": []
  },
  {
   "cell_type": "markdown",
   "id": "1f2f0233",
   "metadata": {},
   "source": [
    "### 6. Holt Winters additive method with trend & Seasonality"
   ]
  },
  {
   "cell_type": "code",
   "execution_count": 18,
   "id": "16c0f4e4",
   "metadata": {},
   "outputs": [
    {
     "name": "stdout",
     "output_type": "stream",
     "text": [
      "{'smoothing_level': 0.2261997071867322, 'smoothing_trend': 0.2260696109953008, 'smoothing_seasonal': 0.05142907248621627, 'damping_trend': nan, 'initial_level': 188.77602489641825, 'initial_trend': -2.6105635788793, 'initial_seasons': array([ 14.50623844, -14.90412136, -31.49973559,   0.45498335,\n",
      "       -28.71626363,   1.70661504,  -0.70511973,  27.50985257,\n",
      "        -3.37012708,  17.80690165,  36.12156427, -10.31588768]), 'use_boxcox': False, 'lamda': None, 'remove_bias': False}\n"
     ]
    }
   ],
   "source": [
    "hwa = test.copy()\n",
    "model = ExponentialSmoothing(np.asarray(train['Sales']) ,seasonal_periods=12 ,trend='add', seasonal='add')\n",
    "model_fit = model.fit(optimized=True)\n",
    "print(model_fit.params)\n",
    "hwa['hwa_forecast'] = model_fit.forecast(len(test))"
   ]
  },
  {
   "cell_type": "code",
   "execution_count": 33,
   "id": "74ad0855",
   "metadata": {},
   "outputs": [
    {
     "data": {
      "image/png": "[encoded data removed]",
      "text/plain": [
       "<Figure size 864x288 with 1 Axes>"
      ]
     },
     "metadata": {
      "needs_background": "light"
     },
     "output_type": "display_data"
    }
   ],
   "source": [
    "plt.figure(figsize=(12,4))\n",
    "plt.plot( train['Sales'], label='Train')\n",
    "plt.plot(test['Sales'], label='Test')\n",
    "plt.plot(hwa['hwa_forecast'], label='Holt Winters\\'s additive forecast')\n",
    "plt.legend()\n",
    "plt.title('Holt Winters\\' Additive Method');"
   ]
  },
  {
   "cell_type": "code",
   "execution_count": 19,
   "id": "72a03034",
   "metadata": {},
   "outputs": [
    {
     "data": {
      "text/html": [
       "<div>\n",
       "<style scoped>\n",
       "    .dataframe tbody tr th:only-of-type {\n",
       "        vertical-align: middle;\n",
       "    }\n",
       "\n",
       "    .dataframe tbody tr th {\n",
       "        vertical-align: top;\n",
       "    }\n",
       "\n",
       "    .dataframe thead th {\n",
       "        text-align: right;\n",
       "    }\n",
       "</style>\n",
       "<table border=\"1\" class=\"dataframe\">\n",
       "  <thead>\n",
       "    <tr style=\"text-align: right;\">\n",
       "      <th></th>\n",
       "      <th>Method</th>\n",
       "      <th>RMSE</th>\n",
       "      <th>MAPE</th>\n",
       "    </tr>\n",
       "  </thead>\n",
       "  <tbody>\n",
       "    <tr>\n",
       "      <th>0</th>\n",
       "      <td>Naive method</td>\n",
       "      <td>155.90</td>\n",
       "      <td>22.05</td>\n",
       "    </tr>\n",
       "    <tr>\n",
       "      <th>0</th>\n",
       "      <td>Simple average method</td>\n",
       "      <td>313.18</td>\n",
       "      <td>51.69</td>\n",
       "    </tr>\n",
       "    <tr>\n",
       "      <th>0</th>\n",
       "      <td>Simple moving average forecast</td>\n",
       "      <td>229.90</td>\n",
       "      <td>35.34</td>\n",
       "    </tr>\n",
       "    <tr>\n",
       "      <th>0</th>\n",
       "      <td>Simple exponential smoothing forecast</td>\n",
       "      <td>182.55</td>\n",
       "      <td>25.53</td>\n",
       "    </tr>\n",
       "    <tr>\n",
       "      <th>0</th>\n",
       "      <td>Holt's exponential smoothing method</td>\n",
       "      <td>117.88</td>\n",
       "      <td>16.84</td>\n",
       "    </tr>\n",
       "    <tr>\n",
       "      <th>0</th>\n",
       "      <td>Holt Winters' additive method</td>\n",
       "      <td>111.15</td>\n",
       "      <td>17.16</td>\n",
       "    </tr>\n",
       "  </tbody>\n",
       "</table>\n",
       "</div>"
      ],
      "text/plain": [
       "                                  Method    RMSE   MAPE\n",
       "0                           Naive method  155.90  22.05\n",
       "0                  Simple average method  313.18  51.69\n",
       "0         Simple moving average forecast  229.90  35.34\n",
       "0  Simple exponential smoothing forecast  182.55  25.53\n",
       "0    Holt's exponential smoothing method  117.88  16.84\n",
       "0          Holt Winters' additive method  111.15  17.16"
      ]
     },
     "execution_count": 19,
     "metadata": {},
     "output_type": "execute_result"
    }
   ],
   "source": [
    "rmse = np.sqrt(mean_squared_error(test['Sales'], hwa['hwa_forecast'])).round(2)\n",
    "mape = np.round(np.mean(np.abs(test['Sales']-hwa['hwa_forecast'])/test['Sales'])*100,2)\n",
    "\n",
    "tempResults = pd.DataFrame({'Method':['Holt Winters\\' additive method'], 'RMSE': [rmse],'MAPE': [mape] })\n",
    "results = pd.concat([results, tempResults])\n",
    "results = results[['Method', 'RMSE', 'MAPE']]\n",
    "results"
   ]
  },
  {
   "cell_type": "markdown",
   "id": "673ef12d",
   "metadata": {},
   "source": [
    "RMSE of this method is better than previous all other methods except Holts exponential smoothing method."
   ]
  },
  {
   "cell_type": "raw",
   "id": "327bee81",
   "metadata": {},
   "source": []
  },
  {
   "cell_type": "markdown",
   "id": "fa25b79f",
   "metadata": {},
   "source": [
    "### 7. Holt Winters multiplicative method with trend & Seasonality"
   ]
  },
  {
   "cell_type": "code",
   "execution_count": 20,
   "id": "50559d76",
   "metadata": {},
   "outputs": [
    {
     "name": "stdout",
     "output_type": "stream",
     "text": [
      "{'smoothing_level': 0.22729450505756402, 'smoothing_trend': 0.2192762885566378, 'smoothing_seasonal': 0.060891141662512846, 'damping_trend': nan, 'initial_level': 122.15904977324965, 'initial_trend': -2.4900777606549642, 'initial_seasons': array([1.63081508, 1.60591761, 1.30071266, 1.6225832 , 1.40895948,\n",
      "       1.54827733, 1.4873248 , 1.75766886, 1.53775125, 1.86539421,\n",
      "       1.6255058 , 1.5250405 ]), 'use_boxcox': False, 'lamda': None, 'remove_bias': False}\n"
     ]
    }
   ],
   "source": [
    "hwm = test.copy()\n",
    "model = ExponentialSmoothing(np.asarray(train['Sales']) ,seasonal_periods=12 ,trend='add', seasonal='mul')\n",
    "model_fit = model.fit(optimized=True)\n",
    "print(model_fit.params)\n",
    "hwm['hwm_forecast'] = model_fit.forecast(len(test))"
   ]
  },
  {
   "cell_type": "code",
   "execution_count": 36,
   "id": "c70a4075",
   "metadata": {},
   "outputs": [
    {
     "data": {
      "image/png": "[encoded data removed]",
      "text/plain": [
       "<Figure size 864x288 with 1 Axes>"
      ]
     },
     "metadata": {
      "needs_background": "light"
     },
     "output_type": "display_data"
    }
   ],
   "source": [
    "plt.figure(figsize=(12,4))\n",
    "plt.plot( train['Sales'], label='Train')\n",
    "plt.plot(test['Sales'], label='Test')\n",
    "plt.plot(hwm['hwm_forecast'], label='Holt Winters\\'s multipplicative forecast')\n",
    "plt.legend()\n",
    "plt.title('Holt Winters\\' Multiplicative Method');"
   ]
  },
  {
   "cell_type": "code",
   "execution_count": 21,
   "id": "60d9a7d1",
   "metadata": {},
   "outputs": [
    {
     "data": {
      "text/html": [
       "<div>\n",
       "<style scoped>\n",
       "    .dataframe tbody tr th:only-of-type {\n",
       "        vertical-align: middle;\n",
       "    }\n",
       "\n",
       "    .dataframe tbody tr th {\n",
       "        vertical-align: top;\n",
       "    }\n",
       "\n",
       "    .dataframe thead th {\n",
       "        text-align: right;\n",
       "    }\n",
       "</style>\n",
       "<table border=\"1\" class=\"dataframe\">\n",
       "  <thead>\n",
       "    <tr style=\"text-align: right;\">\n",
       "      <th></th>\n",
       "      <th>Method</th>\n",
       "      <th>RMSE</th>\n",
       "      <th>MAPE</th>\n",
       "    </tr>\n",
       "  </thead>\n",
       "  <tbody>\n",
       "    <tr>\n",
       "      <th>0</th>\n",
       "      <td>Naive method</td>\n",
       "      <td>155.90</td>\n",
       "      <td>22.05</td>\n",
       "    </tr>\n",
       "    <tr>\n",
       "      <th>0</th>\n",
       "      <td>Simple average method</td>\n",
       "      <td>313.18</td>\n",
       "      <td>51.69</td>\n",
       "    </tr>\n",
       "    <tr>\n",
       "      <th>0</th>\n",
       "      <td>Simple moving average forecast</td>\n",
       "      <td>229.90</td>\n",
       "      <td>35.34</td>\n",
       "    </tr>\n",
       "    <tr>\n",
       "      <th>0</th>\n",
       "      <td>Simple exponential smoothing forecast</td>\n",
       "      <td>182.55</td>\n",
       "      <td>25.53</td>\n",
       "    </tr>\n",
       "    <tr>\n",
       "      <th>0</th>\n",
       "      <td>Holt's exponential smoothing method</td>\n",
       "      <td>117.88</td>\n",
       "      <td>16.84</td>\n",
       "    </tr>\n",
       "    <tr>\n",
       "      <th>0</th>\n",
       "      <td>Holt Winters' additive method</td>\n",
       "      <td>111.15</td>\n",
       "      <td>17.16</td>\n",
       "    </tr>\n",
       "    <tr>\n",
       "      <th>0</th>\n",
       "      <td>Holt Winters' multiplicative method</td>\n",
       "      <td>128.37</td>\n",
       "      <td>21.27</td>\n",
       "    </tr>\n",
       "  </tbody>\n",
       "</table>\n",
       "</div>"
      ],
      "text/plain": [
       "                                  Method    RMSE   MAPE\n",
       "0                           Naive method  155.90  22.05\n",
       "0                  Simple average method  313.18  51.69\n",
       "0         Simple moving average forecast  229.90  35.34\n",
       "0  Simple exponential smoothing forecast  182.55  25.53\n",
       "0    Holt's exponential smoothing method  117.88  16.84\n",
       "0          Holt Winters' additive method  111.15  17.16\n",
       "0    Holt Winters' multiplicative method  128.37  21.27"
      ]
     },
     "execution_count": 21,
     "metadata": {},
     "output_type": "execute_result"
    }
   ],
   "source": [
    "rmse = np.sqrt(mean_squared_error(test['Sales'], hwm['hwm_forecast'])).round(2)\n",
    "mape = np.round(np.mean(np.abs(test['Sales']-hwm['hwm_forecast'])/test['Sales'])*100,2)\n",
    "\n",
    "tempResults = pd.DataFrame({'Method':['Holt Winters\\' multiplicative method'], 'RMSE': [rmse],'MAPE': [mape] })\n",
    "results = pd.concat([results, tempResults])\n",
    "results = results[['Method', 'RMSE', 'MAPE']]\n",
    "results"
   ]
  },
  {
   "cell_type": "markdown",
   "id": "82ee093c",
   "metadata": {},
   "source": [
    "* RMSE of this method is good as compare to previous all methods except Holts exponential smoothing & Holt winters additive method.."
   ]
  },
  {
   "cell_type": "markdown",
   "id": "a485a258",
   "metadata": {},
   "source": [
    "**Here We conclude from above table that Holt's exponential smoothing method is preffered to forecast beause the RMSE and MAPE values for this method are lower as compared to other methods. This method is very well able to capture the trend and seasonality in the data.**"
   ]
  },
  {
   "cell_type": "raw",
   "id": "bf335f91",
   "metadata": {},
   "source": []
  },
  {
   "cell_type": "markdown",
   "id": "3742f80f",
   "metadata": {},
   "source": [
    "## Auto Regressive Methods"
   ]
  },
  {
   "cell_type": "markdown",
   "id": "fd7b59dd",
   "metadata": {},
   "source": [
    "**Stationarity Check**\n",
    "##### KPSS Method"
   ]
  },
  {
   "cell_type": "code",
   "execution_count": 51,
   "id": "2ee36e22",
   "metadata": {},
   "outputs": [
    {
     "name": "stdout",
     "output_type": "stream",
     "text": [
      "KPSS Statistic: 0.752776\n",
      "Critical Values @ 0.05: 0.46\n",
      "p-value: 0.010000\n"
     ]
    }
   ],
   "source": [
    "warnings.filterwarnings('ignore')\n",
    "from statsmodels.tsa.stattools import kpss\n",
    "kpss_test = kpss(df['Sales'])\n",
    "\n",
    "print('KPSS Statistic: %f' % kpss_test[0])\n",
    "print('Critical Values @ 0.05: %.2f' % kpss_test[3]['5%'])\n",
    "print('p-value: %f' % kpss_test[1])"
   ]
  },
  {
   "cell_type": "markdown",
   "id": "bf49b18a",
   "metadata": {},
   "source": [
    "p-value is not greater than 0.05 hence series is not stationary."
   ]
  },
  {
   "cell_type": "markdown",
   "id": "9c2c0cb7",
   "metadata": {},
   "source": [
    "**Series is not stationary, to make it stationary perform transformation & differencing.**"
   ]
  },
  {
   "cell_type": "markdown",
   "id": "581861a1",
   "metadata": {},
   "source": [
    "#### Box Cox transformation to make variance constant."
   ]
  },
  {
   "cell_type": "code",
   "execution_count": 52,
   "id": "1f02997f",
   "metadata": {},
   "outputs": [
    {
     "data": {
      "image/png": "[encoded data removed]",
      "text/plain": [
       "<Figure size 864x288 with 1 Axes>"
      ]
     },
     "metadata": {
      "needs_background": "light"
     },
     "output_type": "display_data"
    }
   ],
   "source": [
    "from scipy.stats import boxcox\n",
    "data_boxcox = pd.Series(boxcox(df['Sales'], lmbda=0), index = df.index)\n",
    "plt.figure(figsize=(12,4))\n",
    "plt.plot(data_boxcox, label='After Box Cox tranformation')\n",
    "plt.legend()\n",
    "plt.title('After Box Cox transformation');"
   ]
  },
  {
   "cell_type": "markdown",
   "id": "364da156",
   "metadata": {},
   "source": [
    "#### Use Differencing to remove Trend"
   ]
  },
  {
   "cell_type": "code",
   "execution_count": 53,
   "id": "218aa594",
   "metadata": {},
   "outputs": [
    {
     "data": {
      "image/png": "[encoded data removed]",
      "text/plain": [
       "<Figure size 864x288 with 1 Axes>"
      ]
     },
     "metadata": {
      "needs_background": "light"
     },
     "output_type": "display_data"
    }
   ],
   "source": [
    "data_boxcox_diff = pd.Series(data_boxcox - data_boxcox.shift(), df.index).dropna()\n",
    "plt.figure(figsize=(12,4))\n",
    "plt.plot(data_boxcox_diff, label='After Box Cox tranformation and differencing')\n",
    "plt.legend()\n",
    "plt.title('After Box Cox transform and differencing');"
   ]
  },
  {
   "cell_type": "markdown",
   "id": "5a146dbe",
   "metadata": {},
   "source": [
    "* Trend is gone."
   ]
  },
  {
   "cell_type": "code",
   "execution_count": 41,
   "id": "5e0d3bcb",
   "metadata": {},
   "outputs": [
    {
     "data": {
      "text/plain": [
       "Date\n",
       "2019-02-01   -0.600575\n",
       "2019-03-01    0.227111\n",
       "2019-04-01   -0.428391\n",
       "2019-05-01    0.412981\n",
       "2019-06-01   -0.067686\n",
       "2019-07-01    0.318939\n",
       "2019-08-01   -0.031999\n",
       "2019-09-01   -0.152222\n",
       "2019-10-01   -0.450282\n",
       "2019-11-01    1.007227\n",
       "2019-12-01   -0.593389\n",
       "2020-01-01    0.044194\n",
       "2020-02-01   -0.262107\n",
       "2020-03-01    0.340287\n",
       "2020-04-01    0.262986\n",
       "2020-05-01   -0.356205\n",
       "2020-06-01    0.405117\n",
       "2020-07-01   -0.238947\n",
       "2020-08-01    0.295176\n",
       "2020-09-01   -0.046175\n",
       "2020-10-01    0.374521\n",
       "2020-11-01   -0.466216\n",
       "2020-12-01    0.257846\n",
       "2021-01-01   -0.007625\n",
       "2021-02-01    0.259621\n",
       "2021-03-01   -0.332258\n",
       "2021-04-01    0.329757\n",
       "2021-05-01   -0.090473\n",
       "2021-06-01    0.086139\n",
       "2021-07-01    0.274391\n",
       "2021-08-01   -0.344953\n",
       "2021-09-01    0.514743\n",
       "2021-10-01   -0.361083\n",
       "2021-11-01    0.201321\n",
       "2021-12-01    0.106925\n",
       "dtype: float64"
      ]
     },
     "execution_count": 41,
     "metadata": {},
     "output_type": "execute_result"
    }
   ],
   "source": [
    "data_boxcox_diff"
   ]
  },
  {
   "cell_type": "markdown",
   "id": "1210933f",
   "metadata": {},
   "source": [
    "#### Now Check whether Series is stationary or not"
   ]
  },
  {
   "cell_type": "code",
   "execution_count": 54,
   "id": "069b9159",
   "metadata": {},
   "outputs": [
    {
     "name": "stdout",
     "output_type": "stream",
     "text": [
      "KPSS Statistic: 0.150726\n",
      "Critical Values @ 0.05: 0.46\n",
      "p-value: 0.100000\n"
     ]
    }
   ],
   "source": [
    "warnings.filterwarnings('ignore')\n",
    "kpss_test = kpss(data_boxcox_diff)\n",
    "\n",
    "print('KPSS Statistic: %f' % kpss_test[0])\n",
    "print('Critical Values @ 0.05: %.2f' % kpss_test[3]['5%'])\n",
    "print('p-value: %f' % kpss_test[1])"
   ]
  },
  {
   "cell_type": "markdown",
   "id": "939aba87",
   "metadata": {},
   "source": [
    "* Now the p-value is greater than 0.05. Hence Series is **Stationary**."
   ]
  },
  {
   "cell_type": "code",
   "execution_count": 71,
   "id": "08846246",
   "metadata": {},
   "outputs": [
    {
     "name": "stdout",
     "output_type": "stream",
     "text": [
      "            Sales\n",
      "Date             \n",
      "2021-02-01  440.4\n",
      "2021-03-01  315.9\n",
      "2021-04-01  439.3\n",
      "2021-05-01  401.3\n",
      "2021-06-01  437.4\n",
      "            Sales\n",
      "Date             \n",
      "2021-07-01  575.5\n",
      "2021-08-01  407.6\n",
      "2021-09-01  682.0\n",
      "2021-10-01  475.3\n",
      "2021-11-01  581.3\n",
      "2021-12-01  646.9\n"
     ]
    }
   ],
   "source": [
    "#Train test Split\n",
    "print(train.tail())\n",
    "print(test)"
   ]
  },
  {
   "cell_type": "markdown",
   "id": "a0988029",
   "metadata": {},
   "source": [
    "### 8. Auto Regression(AR) method"
   ]
  },
  {
   "cell_type": "code",
   "execution_count": 25,
   "id": "dab0379e",
   "metadata": {},
   "outputs": [
    {
     "data": {
      "text/plain": [
       "2021-07-01    366.683953\n",
       "2021-08-01    325.884017\n",
       "2021-09-01    302.344313\n",
       "2021-10-01    288.762977\n",
       "2021-11-01    280.927165\n",
       "2021-12-01    276.406258\n",
       "Freq: MS, Name: predicted_mean, dtype: float64"
      ]
     },
     "execution_count": 25,
     "metadata": {},
     "output_type": "execute_result"
    }
   ],
   "source": [
    "import statsmodels.api as sm\n",
    "model=sm.tsa.arima.ARIMA(train,order=(1,0,0))\n",
    "model_fit = model.fit()\n",
    "forcast_AR=model_fit.predict(start=len(train), end=len(df)-1)\n",
    "forcast_AR"
   ]
  },
  {
   "cell_type": "code",
   "execution_count": 76,
   "id": "e04f50bf",
   "metadata": {},
   "outputs": [
    {
     "data": {
      "image/png": "[encoded data removed]",
      "text/plain": [
       "<Figure size 864x288 with 1 Axes>"
      ]
     },
     "metadata": {
      "needs_background": "light"
     },
     "output_type": "display_data"
    }
   ],
   "source": [
    "plt.figure(figsize=(12,4))\n",
    "plt.plot(train, label=\"Train\")\n",
    "plt.plot(test, label=\"Test\")\n",
    "plt.plot(forcast_AR, label=\"Forecasted\")\n",
    "plt.legend()\n",
    "plt.title(\"Auto Regression (AR) Method\");"
   ]
  },
  {
   "cell_type": "code",
   "execution_count": 26,
   "id": "7274b4ec",
   "metadata": {},
   "outputs": [
    {
     "data": {
      "text/html": [
       "<div>\n",
       "<style scoped>\n",
       "    .dataframe tbody tr th:only-of-type {\n",
       "        vertical-align: middle;\n",
       "    }\n",
       "\n",
       "    .dataframe tbody tr th {\n",
       "        vertical-align: top;\n",
       "    }\n",
       "\n",
       "    .dataframe thead th {\n",
       "        text-align: right;\n",
       "    }\n",
       "</style>\n",
       "<table border=\"1\" class=\"dataframe\">\n",
       "  <thead>\n",
       "    <tr style=\"text-align: right;\">\n",
       "      <th></th>\n",
       "      <th>Method</th>\n",
       "      <th>RMSE</th>\n",
       "      <th>MAPE</th>\n",
       "    </tr>\n",
       "  </thead>\n",
       "  <tbody>\n",
       "    <tr>\n",
       "      <th>0</th>\n",
       "      <td>Naive method</td>\n",
       "      <td>155.90</td>\n",
       "      <td>22.05</td>\n",
       "    </tr>\n",
       "    <tr>\n",
       "      <th>0</th>\n",
       "      <td>Simple average method</td>\n",
       "      <td>313.18</td>\n",
       "      <td>51.69</td>\n",
       "    </tr>\n",
       "    <tr>\n",
       "      <th>0</th>\n",
       "      <td>Simple moving average forecast</td>\n",
       "      <td>229.90</td>\n",
       "      <td>35.34</td>\n",
       "    </tr>\n",
       "    <tr>\n",
       "      <th>0</th>\n",
       "      <td>Simple exponential smoothing forecast</td>\n",
       "      <td>182.55</td>\n",
       "      <td>25.53</td>\n",
       "    </tr>\n",
       "    <tr>\n",
       "      <th>0</th>\n",
       "      <td>Holt's exponential smoothing method</td>\n",
       "      <td>117.88</td>\n",
       "      <td>16.84</td>\n",
       "    </tr>\n",
       "    <tr>\n",
       "      <th>0</th>\n",
       "      <td>Holt Winters' additive method</td>\n",
       "      <td>111.15</td>\n",
       "      <td>17.16</td>\n",
       "    </tr>\n",
       "    <tr>\n",
       "      <th>0</th>\n",
       "      <td>Holt Winters' multiplicative method</td>\n",
       "      <td>128.37</td>\n",
       "      <td>21.27</td>\n",
       "    </tr>\n",
       "    <tr>\n",
       "      <th>0</th>\n",
       "      <td>Autoregressive (AR) method</td>\n",
       "      <td>275.89</td>\n",
       "      <td>43.00</td>\n",
       "    </tr>\n",
       "  </tbody>\n",
       "</table>\n",
       "</div>"
      ],
      "text/plain": [
       "                                  Method    RMSE   MAPE\n",
       "0                           Naive method  155.90  22.05\n",
       "0                  Simple average method  313.18  51.69\n",
       "0         Simple moving average forecast  229.90  35.34\n",
       "0  Simple exponential smoothing forecast  182.55  25.53\n",
       "0    Holt's exponential smoothing method  117.88  16.84\n",
       "0          Holt Winters' additive method  111.15  17.16\n",
       "0    Holt Winters' multiplicative method  128.37  21.27\n",
       "0             Autoregressive (AR) method  275.89  43.00"
      ]
     },
     "execution_count": 26,
     "metadata": {},
     "output_type": "execute_result"
    }
   ],
   "source": [
    "from sklearn.metrics import mean_absolute_percentage_error\n",
    "rmse=np.sqrt(mean_squared_error(test,forcast_AR)).round(2)\n",
    "mape=mean_absolute_percentage_error(test,forcast_AR).round(2)*100\n",
    "\n",
    "tempResults = pd.DataFrame({'Method':['Autoregressive (AR) method'], 'RMSE': [rmse],'MAPE': [mape] })\n",
    "results = pd.concat([results, tempResults])\n",
    "results = results[['Method', 'RMSE', 'MAPE']]\n",
    "results"
   ]
  },
  {
   "cell_type": "markdown",
   "id": "e6fcd95e",
   "metadata": {},
   "source": [
    "* RMSE is high so we dont use this model to forecast."
   ]
  },
  {
   "cell_type": "raw",
   "id": "eee8ff99",
   "metadata": {},
   "source": []
  },
  {
   "cell_type": "markdown",
   "id": "dbf693f5",
   "metadata": {},
   "source": [
    "### 9. Moving average method (MA)"
   ]
  },
  {
   "cell_type": "code",
   "execution_count": 27,
   "id": "efd6e1ce",
   "metadata": {},
   "outputs": [
    {
     "data": {
      "text/plain": [
       "2021-07-01    306.199723\n",
       "2021-08-01    264.517788\n",
       "2021-09-01    264.517788\n",
       "2021-10-01    264.517788\n",
       "2021-11-01    264.517788\n",
       "2021-12-01    264.517788\n",
       "Freq: MS, Name: predicted_mean, dtype: float64"
      ]
     },
     "execution_count": 27,
     "metadata": {},
     "output_type": "execute_result"
    }
   ],
   "source": [
    "model=sm.tsa.arima.ARIMA(train,order=(0,0,1))\n",
    "model_fit = model.fit()\n",
    "forcast_MA=model_fit.predict(start=len(train), end=len(df)-1)\n",
    "forcast_MA"
   ]
  },
  {
   "cell_type": "code",
   "execution_count": 85,
   "id": "64bca450",
   "metadata": {},
   "outputs": [
    {
     "data": {
      "image/png": "[encoded data removed]",
      "text/plain": [
       "<Figure size 864x288 with 1 Axes>"
      ]
     },
     "metadata": {
      "needs_background": "light"
     },
     "output_type": "display_data"
    }
   ],
   "source": [
    "plt.figure(figsize=(12,4))\n",
    "plt.plot(train, label=\"Train\")\n",
    "plt.plot(test, label=\"Test\")\n",
    "plt.plot(forcast_MA, label=\"Forecasted\")\n",
    "plt.legend()\n",
    "plt.title(\"Moving Average (MA) Method\");"
   ]
  },
  {
   "cell_type": "code",
   "execution_count": 28,
   "id": "d1c3f6a3",
   "metadata": {},
   "outputs": [
    {
     "data": {
      "text/html": [
       "<div>\n",
       "<style scoped>\n",
       "    .dataframe tbody tr th:only-of-type {\n",
       "        vertical-align: middle;\n",
       "    }\n",
       "\n",
       "    .dataframe tbody tr th {\n",
       "        vertical-align: top;\n",
       "    }\n",
       "\n",
       "    .dataframe thead th {\n",
       "        text-align: right;\n",
       "    }\n",
       "</style>\n",
       "<table border=\"1\" class=\"dataframe\">\n",
       "  <thead>\n",
       "    <tr style=\"text-align: right;\">\n",
       "      <th></th>\n",
       "      <th>Method</th>\n",
       "      <th>RMSE</th>\n",
       "      <th>MAPE</th>\n",
       "    </tr>\n",
       "  </thead>\n",
       "  <tbody>\n",
       "    <tr>\n",
       "      <th>0</th>\n",
       "      <td>Naive method</td>\n",
       "      <td>155.90</td>\n",
       "      <td>22.05</td>\n",
       "    </tr>\n",
       "    <tr>\n",
       "      <th>0</th>\n",
       "      <td>Simple average method</td>\n",
       "      <td>313.18</td>\n",
       "      <td>51.69</td>\n",
       "    </tr>\n",
       "    <tr>\n",
       "      <th>0</th>\n",
       "      <td>Simple moving average forecast</td>\n",
       "      <td>229.90</td>\n",
       "      <td>35.34</td>\n",
       "    </tr>\n",
       "    <tr>\n",
       "      <th>0</th>\n",
       "      <td>Simple exponential smoothing forecast</td>\n",
       "      <td>182.55</td>\n",
       "      <td>25.53</td>\n",
       "    </tr>\n",
       "    <tr>\n",
       "      <th>0</th>\n",
       "      <td>Holt's exponential smoothing method</td>\n",
       "      <td>117.88</td>\n",
       "      <td>16.84</td>\n",
       "    </tr>\n",
       "    <tr>\n",
       "      <th>0</th>\n",
       "      <td>Holt Winters' additive method</td>\n",
       "      <td>111.15</td>\n",
       "      <td>17.16</td>\n",
       "    </tr>\n",
       "    <tr>\n",
       "      <th>0</th>\n",
       "      <td>Holt Winters' multiplicative method</td>\n",
       "      <td>128.37</td>\n",
       "      <td>21.27</td>\n",
       "    </tr>\n",
       "    <tr>\n",
       "      <th>0</th>\n",
       "      <td>Autoregressive (AR) method</td>\n",
       "      <td>275.89</td>\n",
       "      <td>43.00</td>\n",
       "    </tr>\n",
       "    <tr>\n",
       "      <th>0</th>\n",
       "      <td>Moving Average (MA) method</td>\n",
       "      <td>305.04</td>\n",
       "      <td>50.00</td>\n",
       "    </tr>\n",
       "  </tbody>\n",
       "</table>\n",
       "</div>"
      ],
      "text/plain": [
       "                                  Method    RMSE   MAPE\n",
       "0                           Naive method  155.90  22.05\n",
       "0                  Simple average method  313.18  51.69\n",
       "0         Simple moving average forecast  229.90  35.34\n",
       "0  Simple exponential smoothing forecast  182.55  25.53\n",
       "0    Holt's exponential smoothing method  117.88  16.84\n",
       "0          Holt Winters' additive method  111.15  17.16\n",
       "0    Holt Winters' multiplicative method  128.37  21.27\n",
       "0             Autoregressive (AR) method  275.89  43.00\n",
       "0             Moving Average (MA) method  305.04  50.00"
      ]
     },
     "execution_count": 28,
     "metadata": {},
     "output_type": "execute_result"
    }
   ],
   "source": [
    "rmse=np.sqrt(mean_squared_error(test,forcast_MA)).round(2)\n",
    "mape=mean_absolute_percentage_error(test,forcast_MA).round(2)*100\n",
    "\n",
    "tempResults = pd.DataFrame({'Method':['Moving Average (MA) method'], 'RMSE': [rmse],'MAPE': [mape] })\n",
    "results = pd.concat([results, tempResults])\n",
    "results = results[['Method', 'RMSE', 'MAPE']]\n",
    "results"
   ]
  },
  {
   "cell_type": "markdown",
   "id": "848dd80f",
   "metadata": {},
   "source": [
    "* This model is not good to forecast."
   ]
  },
  {
   "cell_type": "raw",
   "id": "f54ae89c",
   "metadata": {},
   "source": []
  },
  {
   "cell_type": "markdown",
   "id": "ba1ac016",
   "metadata": {},
   "source": [
    "### 10. Auto regression moving average method (ARMA)"
   ]
  },
  {
   "cell_type": "code",
   "execution_count": 29,
   "id": "4054a121",
   "metadata": {},
   "outputs": [
    {
     "data": {
      "text/plain": [
       "2021-07-01    396.021209\n",
       "2021-08-01    391.763487\n",
       "2021-09-01    387.673883\n",
       "2021-10-01    383.745760\n",
       "2021-11-01    379.972741\n",
       "2021-12-01    376.348702\n",
       "Freq: MS, Name: predicted_mean, dtype: float64"
      ]
     },
     "execution_count": 29,
     "metadata": {},
     "output_type": "execute_result"
    }
   ],
   "source": [
    "model=sm.tsa.arima.ARIMA(train,order=(1,0,1))\n",
    "model_fit = model.fit()\n",
    "forcast_ARMA=model_fit.predict(start=len(train), end=len(df)-1)\n",
    "forcast_ARMA"
   ]
  },
  {
   "cell_type": "code",
   "execution_count": 88,
   "id": "432d3bd2",
   "metadata": {},
   "outputs": [
    {
     "data": {
      "image/png": "[encoded data removed]",
      "text/plain": [
       "<Figure size 864x288 with 1 Axes>"
      ]
     },
     "metadata": {
      "needs_background": "light"
     },
     "output_type": "display_data"
    }
   ],
   "source": [
    "plt.figure(figsize=(12,4))\n",
    "plt.plot(train, label=\"Train\")\n",
    "plt.plot(test, label=\"Test\")\n",
    "plt.plot(forcast_ARMA, label=\"Forecasted\")\n",
    "plt.legend()\n",
    "plt.title(\"Auto Regression Moving Average (ARMA) Method\");"
   ]
  },
  {
   "cell_type": "code",
   "execution_count": 30,
   "id": "8264a27e",
   "metadata": {},
   "outputs": [
    {
     "data": {
      "text/html": [
       "<div>\n",
       "<style scoped>\n",
       "    .dataframe tbody tr th:only-of-type {\n",
       "        vertical-align: middle;\n",
       "    }\n",
       "\n",
       "    .dataframe tbody tr th {\n",
       "        vertical-align: top;\n",
       "    }\n",
       "\n",
       "    .dataframe thead th {\n",
       "        text-align: right;\n",
       "    }\n",
       "</style>\n",
       "<table border=\"1\" class=\"dataframe\">\n",
       "  <thead>\n",
       "    <tr style=\"text-align: right;\">\n",
       "      <th></th>\n",
       "      <th>Method</th>\n",
       "      <th>RMSE</th>\n",
       "      <th>MAPE</th>\n",
       "    </tr>\n",
       "  </thead>\n",
       "  <tbody>\n",
       "    <tr>\n",
       "      <th>0</th>\n",
       "      <td>Naive method</td>\n",
       "      <td>155.90</td>\n",
       "      <td>22.05</td>\n",
       "    </tr>\n",
       "    <tr>\n",
       "      <th>0</th>\n",
       "      <td>Simple average method</td>\n",
       "      <td>313.18</td>\n",
       "      <td>51.69</td>\n",
       "    </tr>\n",
       "    <tr>\n",
       "      <th>0</th>\n",
       "      <td>Simple moving average forecast</td>\n",
       "      <td>229.90</td>\n",
       "      <td>35.34</td>\n",
       "    </tr>\n",
       "    <tr>\n",
       "      <th>0</th>\n",
       "      <td>Simple exponential smoothing forecast</td>\n",
       "      <td>182.55</td>\n",
       "      <td>25.53</td>\n",
       "    </tr>\n",
       "    <tr>\n",
       "      <th>0</th>\n",
       "      <td>Holt's exponential smoothing method</td>\n",
       "      <td>117.88</td>\n",
       "      <td>16.84</td>\n",
       "    </tr>\n",
       "    <tr>\n",
       "      <th>0</th>\n",
       "      <td>Holt Winters' additive method</td>\n",
       "      <td>111.15</td>\n",
       "      <td>17.16</td>\n",
       "    </tr>\n",
       "    <tr>\n",
       "      <th>0</th>\n",
       "      <td>Holt Winters' multiplicative method</td>\n",
       "      <td>128.37</td>\n",
       "      <td>21.27</td>\n",
       "    </tr>\n",
       "    <tr>\n",
       "      <th>0</th>\n",
       "      <td>Autoregressive (AR) method</td>\n",
       "      <td>275.89</td>\n",
       "      <td>43.00</td>\n",
       "    </tr>\n",
       "    <tr>\n",
       "      <th>0</th>\n",
       "      <td>Moving Average (MA) method</td>\n",
       "      <td>305.04</td>\n",
       "      <td>50.00</td>\n",
       "    </tr>\n",
       "    <tr>\n",
       "      <th>0</th>\n",
       "      <td>ARMA</td>\n",
       "      <td>200.50</td>\n",
       "      <td>29.00</td>\n",
       "    </tr>\n",
       "  </tbody>\n",
       "</table>\n",
       "</div>"
      ],
      "text/plain": [
       "                                  Method    RMSE   MAPE\n",
       "0                           Naive method  155.90  22.05\n",
       "0                  Simple average method  313.18  51.69\n",
       "0         Simple moving average forecast  229.90  35.34\n",
       "0  Simple exponential smoothing forecast  182.55  25.53\n",
       "0    Holt's exponential smoothing method  117.88  16.84\n",
       "0          Holt Winters' additive method  111.15  17.16\n",
       "0    Holt Winters' multiplicative method  128.37  21.27\n",
       "0             Autoregressive (AR) method  275.89  43.00\n",
       "0             Moving Average (MA) method  305.04  50.00\n",
       "0                                   ARMA  200.50  29.00"
      ]
     },
     "execution_count": 30,
     "metadata": {},
     "output_type": "execute_result"
    }
   ],
   "source": [
    "rmse=np.sqrt(mean_squared_error(test,forcast_ARMA)).round(2)\n",
    "mape=mean_absolute_percentage_error(test,forcast_ARMA).round(2)*100\n",
    "\n",
    "tempResults = pd.DataFrame({'Method':['ARMA'], 'RMSE': [rmse],'MAPE': [mape] })\n",
    "results = pd.concat([results, tempResults])\n",
    "results = results[['Method', 'RMSE', 'MAPE']]\n",
    "results"
   ]
  },
  {
   "cell_type": "markdown",
   "id": "e5b7bf5f",
   "metadata": {},
   "source": [
    "* ARMA model is better than AR & MA."
   ]
  },
  {
   "cell_type": "raw",
   "id": "dbecd316",
   "metadata": {},
   "source": []
  },
  {
   "cell_type": "markdown",
   "id": "1b6bcb60",
   "metadata": {},
   "source": [
    "### 10. Auto regressive integrated moving average (ARIMA)"
   ]
  },
  {
   "cell_type": "code",
   "execution_count": 31,
   "id": "b822840b",
   "metadata": {},
   "outputs": [
    {
     "data": {
      "text/plain": [
       "2021-07-01    406.875552\n",
       "2021-08-01    421.912724\n",
       "2021-09-01    414.505005\n",
       "2021-10-01    418.154249\n",
       "2021-11-01    416.356532\n",
       "2021-12-01    417.242136\n",
       "Freq: MS, Name: predicted_mean, dtype: float64"
      ]
     },
     "execution_count": 31,
     "metadata": {},
     "output_type": "execute_result"
    }
   ],
   "source": [
    "model=sm.tsa.arima.ARIMA(train,order=(1,1,1))\n",
    "model_fit = model.fit()\n",
    "forcast_ARIMA=model_fit.predict(start=len(train), end=len(df)-1)\n",
    "forcast_ARIMA"
   ]
  },
  {
   "cell_type": "code",
   "execution_count": 32,
   "id": "e1ca3711",
   "metadata": {},
   "outputs": [
    {
     "data": {
      "text/plain": [
       "174.84"
      ]
     },
     "execution_count": 32,
     "metadata": {},
     "output_type": "execute_result"
    }
   ],
   "source": [
    "rmse=np.sqrt(mean_squared_error(test,forcast_ARIMA)).round(2)\n",
    "rmse"
   ]
  },
  {
   "cell_type": "markdown",
   "id": "8aae6565",
   "metadata": {},
   "source": [
    "* RMSE is high, we can alter the p,d,q values to get better results."
   ]
  },
  {
   "cell_type": "markdown",
   "id": "91f2acab",
   "metadata": {},
   "source": [
    "##### Lets Choose right p, d, q values"
   ]
  },
  {
   "cell_type": "code",
   "execution_count": 121,
   "id": "a2ed92ff",
   "metadata": {},
   "outputs": [
    {
     "data": {
      "text/plain": [
       "128"
      ]
     },
     "execution_count": 121,
     "metadata": {},
     "output_type": "execute_result"
    }
   ],
   "source": [
    "warnings.filterwarnings('ignore')\n",
    "\n",
    "import itertools\n",
    "p=range(0,8)\n",
    "q=range(0,8)\n",
    "d=range(0,2)\n",
    "pdq=list(itertools.product(p,d,q))\n",
    "len(pdq)"
   ]
  },
  {
   "cell_type": "code",
   "execution_count": 122,
   "id": "6f7f51ed",
   "metadata": {},
   "outputs": [],
   "source": [
    "rmse=[]\n",
    "order1=[]\n",
    "for pdq in pdq:\n",
    "    try:\n",
    "        model=sm.tsa.arima.ARIMA(train, order=pdq).fit()\n",
    "        pred=model.predict(start=len(train), end=len(df)-1)\n",
    "        error=np.sqrt(mean_squared_error(pred,test))\n",
    "        order1.append(pdq)\n",
    "        rmse.append(error)\n",
    "    except:\n",
    "        continue"
   ]
  },
  {
   "cell_type": "code",
   "execution_count": 123,
   "id": "e6f09c9d",
   "metadata": {},
   "outputs": [
    {
     "data": {
      "text/html": [
       "<div>\n",
       "<style scoped>\n",
       "    .dataframe tbody tr th:only-of-type {\n",
       "        vertical-align: middle;\n",
       "    }\n",
       "\n",
       "    .dataframe tbody tr th {\n",
       "        vertical-align: top;\n",
       "    }\n",
       "\n",
       "    .dataframe thead th {\n",
       "        text-align: right;\n",
       "    }\n",
       "</style>\n",
       "<table border=\"1\" class=\"dataframe\">\n",
       "  <thead>\n",
       "    <tr style=\"text-align: right;\">\n",
       "      <th></th>\n",
       "      <th>RMSE</th>\n",
       "    </tr>\n",
       "  </thead>\n",
       "  <tbody>\n",
       "    <tr>\n",
       "      <th>(0, 0, 0)</th>\n",
       "      <td>313.0</td>\n",
       "    </tr>\n",
       "    <tr>\n",
       "      <th>(0, 0, 1)</th>\n",
       "      <td>305.0</td>\n",
       "    </tr>\n",
       "    <tr>\n",
       "      <th>(0, 0, 2)</th>\n",
       "      <td>297.0</td>\n",
       "    </tr>\n",
       "    <tr>\n",
       "      <th>(0, 0, 3)</th>\n",
       "      <td>306.0</td>\n",
       "    </tr>\n",
       "    <tr>\n",
       "      <th>(0, 0, 4)</th>\n",
       "      <td>286.0</td>\n",
       "    </tr>\n",
       "    <tr>\n",
       "      <th>...</th>\n",
       "      <td>...</td>\n",
       "    </tr>\n",
       "    <tr>\n",
       "      <th>(7, 1, 3)</th>\n",
       "      <td>147.0</td>\n",
       "    </tr>\n",
       "    <tr>\n",
       "      <th>(7, 1, 4)</th>\n",
       "      <td>136.0</td>\n",
       "    </tr>\n",
       "    <tr>\n",
       "      <th>(7, 1, 5)</th>\n",
       "      <td>149.0</td>\n",
       "    </tr>\n",
       "    <tr>\n",
       "      <th>(7, 1, 6)</th>\n",
       "      <td>156.0</td>\n",
       "    </tr>\n",
       "    <tr>\n",
       "      <th>(7, 1, 7)</th>\n",
       "      <td>2627076.0</td>\n",
       "    </tr>\n",
       "  </tbody>\n",
       "</table>\n",
       "<p>124 rows × 1 columns</p>\n",
       "</div>"
      ],
      "text/plain": [
       "                RMSE\n",
       "(0, 0, 0)      313.0\n",
       "(0, 0, 1)      305.0\n",
       "(0, 0, 2)      297.0\n",
       "(0, 0, 3)      306.0\n",
       "(0, 0, 4)      286.0\n",
       "...              ...\n",
       "(7, 1, 3)      147.0\n",
       "(7, 1, 4)      136.0\n",
       "(7, 1, 5)      149.0\n",
       "(7, 1, 6)      156.0\n",
       "(7, 1, 7)  2627076.0\n",
       "\n",
       "[124 rows x 1 columns]"
      ]
     },
     "execution_count": 123,
     "metadata": {},
     "output_type": "execute_result"
    }
   ],
   "source": [
    "order=pd.DataFrame(data=rmse, index=order1, columns=['RMSE'])\n",
    "order.round()"
   ]
  },
  {
   "cell_type": "code",
   "execution_count": 124,
   "id": "60b6f869",
   "metadata": {},
   "outputs": [
    {
     "data": {
      "text/html": [
       "<div>\n",
       "<style scoped>\n",
       "    .dataframe tbody tr th:only-of-type {\n",
       "        vertical-align: middle;\n",
       "    }\n",
       "\n",
       "    .dataframe tbody tr th {\n",
       "        vertical-align: top;\n",
       "    }\n",
       "\n",
       "    .dataframe thead th {\n",
       "        text-align: right;\n",
       "    }\n",
       "</style>\n",
       "<table border=\"1\" class=\"dataframe\">\n",
       "  <thead>\n",
       "    <tr style=\"text-align: right;\">\n",
       "      <th></th>\n",
       "      <th>RMSE</th>\n",
       "    </tr>\n",
       "  </thead>\n",
       "  <tbody>\n",
       "    <tr>\n",
       "      <th>(4, 0, 7)</th>\n",
       "      <td>109.0</td>\n",
       "    </tr>\n",
       "    <tr>\n",
       "      <th>(6, 1, 7)</th>\n",
       "      <td>121.0</td>\n",
       "    </tr>\n",
       "    <tr>\n",
       "      <th>(4, 1, 4)</th>\n",
       "      <td>125.0</td>\n",
       "    </tr>\n",
       "    <tr>\n",
       "      <th>(2, 0, 7)</th>\n",
       "      <td>126.0</td>\n",
       "    </tr>\n",
       "    <tr>\n",
       "      <th>(5, 1, 4)</th>\n",
       "      <td>129.0</td>\n",
       "    </tr>\n",
       "  </tbody>\n",
       "</table>\n",
       "</div>"
      ],
      "text/plain": [
       "            RMSE\n",
       "(4, 0, 7)  109.0\n",
       "(6, 1, 7)  121.0\n",
       "(4, 1, 4)  125.0\n",
       "(2, 0, 7)  126.0\n",
       "(5, 1, 4)  129.0"
      ]
     },
     "execution_count": 124,
     "metadata": {},
     "output_type": "execute_result"
    }
   ],
   "source": [
    "pd.pivot_table(order, values='RMSE', index=order.index, aggfunc=min).sort_values(by='RMSE', ascending=True)[:5].round()"
   ]
  },
  {
   "cell_type": "markdown",
   "id": "4e73b48e",
   "metadata": {},
   "source": [
    "* RMSE is 109 when p=4, d=0, q=7. Hence Use this Paramenter to train the model."
   ]
  },
  {
   "cell_type": "code",
   "execution_count": 33,
   "id": "631ff5e8",
   "metadata": {},
   "outputs": [
    {
     "data": {
      "text/plain": [
       "2021-07-01    508.991449\n",
       "2021-08-01    476.886771\n",
       "2021-09-01    468.293427\n",
       "2021-10-01    506.741924\n",
       "2021-11-01    535.452368\n",
       "2021-12-01    529.687982\n",
       "Freq: MS, Name: predicted_mean, dtype: float64"
      ]
     },
     "execution_count": 33,
     "metadata": {},
     "output_type": "execute_result"
    }
   ],
   "source": [
    "model=sm.tsa.arima.ARIMA(train,order=(4,0,7))\n",
    "model_fit = model.fit()\n",
    "forecast_ARIMA=model_fit.predict(start=len(train), end=len(df)-1)\n",
    "forecast_ARIMA"
   ]
  },
  {
   "cell_type": "code",
   "execution_count": 129,
   "id": "55ae1877",
   "metadata": {},
   "outputs": [
    {
     "data": {
      "text/plain": [
       "Text(0.5, 1.0, 'Auto Regression Integraed Moving Average (ARIMA) Method')"
      ]
     },
     "execution_count": 129,
     "metadata": {},
     "output_type": "execute_result"
    },
    {
     "data": {
      "image/png": "[encoded data removed]",
      "text/plain": [
       "<Figure size 864x288 with 1 Axes>"
      ]
     },
     "metadata": {
      "needs_background": "light"
     },
     "output_type": "display_data"
    }
   ],
   "source": [
    "plt.figure(figsize=(12,4))\n",
    "plt.plot(train, label=\"Train\")\n",
    "plt.plot(test, label=\"Test\")\n",
    "plt.plot(forecast_ARIMA, label=\"Forecasted\")\n",
    "plt.legend()\n",
    "plt.title(\"Auto Regression Integraed Moving Average (ARIMA) Method\")"
   ]
  },
  {
   "cell_type": "code",
   "execution_count": 34,
   "id": "415d0e08",
   "metadata": {},
   "outputs": [
    {
     "data": {
      "text/html": [
       "<div>\n",
       "<style scoped>\n",
       "    .dataframe tbody tr th:only-of-type {\n",
       "        vertical-align: middle;\n",
       "    }\n",
       "\n",
       "    .dataframe tbody tr th {\n",
       "        vertical-align: top;\n",
       "    }\n",
       "\n",
       "    .dataframe thead th {\n",
       "        text-align: right;\n",
       "    }\n",
       "</style>\n",
       "<table border=\"1\" class=\"dataframe\">\n",
       "  <thead>\n",
       "    <tr style=\"text-align: right;\">\n",
       "      <th></th>\n",
       "      <th>Method</th>\n",
       "      <th>RMSE</th>\n",
       "      <th>MAPE</th>\n",
       "    </tr>\n",
       "  </thead>\n",
       "  <tbody>\n",
       "    <tr>\n",
       "      <th>0</th>\n",
       "      <td>Naive method</td>\n",
       "      <td>155.90</td>\n",
       "      <td>22.05</td>\n",
       "    </tr>\n",
       "    <tr>\n",
       "      <th>0</th>\n",
       "      <td>Simple average method</td>\n",
       "      <td>313.18</td>\n",
       "      <td>51.69</td>\n",
       "    </tr>\n",
       "    <tr>\n",
       "      <th>0</th>\n",
       "      <td>Simple moving average forecast</td>\n",
       "      <td>229.90</td>\n",
       "      <td>35.34</td>\n",
       "    </tr>\n",
       "    <tr>\n",
       "      <th>0</th>\n",
       "      <td>Simple exponential smoothing forecast</td>\n",
       "      <td>182.55</td>\n",
       "      <td>25.53</td>\n",
       "    </tr>\n",
       "    <tr>\n",
       "      <th>0</th>\n",
       "      <td>Holt's exponential smoothing method</td>\n",
       "      <td>117.88</td>\n",
       "      <td>16.84</td>\n",
       "    </tr>\n",
       "    <tr>\n",
       "      <th>0</th>\n",
       "      <td>Holt Winters' additive method</td>\n",
       "      <td>111.15</td>\n",
       "      <td>17.16</td>\n",
       "    </tr>\n",
       "    <tr>\n",
       "      <th>0</th>\n",
       "      <td>Holt Winters' multiplicative method</td>\n",
       "      <td>128.37</td>\n",
       "      <td>21.27</td>\n",
       "    </tr>\n",
       "    <tr>\n",
       "      <th>0</th>\n",
       "      <td>Autoregressive (AR) method</td>\n",
       "      <td>275.89</td>\n",
       "      <td>43.00</td>\n",
       "    </tr>\n",
       "    <tr>\n",
       "      <th>0</th>\n",
       "      <td>Moving Average (MA) method</td>\n",
       "      <td>305.04</td>\n",
       "      <td>50.00</td>\n",
       "    </tr>\n",
       "    <tr>\n",
       "      <th>0</th>\n",
       "      <td>ARMA</td>\n",
       "      <td>200.50</td>\n",
       "      <td>29.00</td>\n",
       "    </tr>\n",
       "    <tr>\n",
       "      <th>0</th>\n",
       "      <td>ARIMA</td>\n",
       "      <td>109.33</td>\n",
       "      <td>15.00</td>\n",
       "    </tr>\n",
       "  </tbody>\n",
       "</table>\n",
       "</div>"
      ],
      "text/plain": [
       "                                  Method    RMSE   MAPE\n",
       "0                           Naive method  155.90  22.05\n",
       "0                  Simple average method  313.18  51.69\n",
       "0         Simple moving average forecast  229.90  35.34\n",
       "0  Simple exponential smoothing forecast  182.55  25.53\n",
       "0    Holt's exponential smoothing method  117.88  16.84\n",
       "0          Holt Winters' additive method  111.15  17.16\n",
       "0    Holt Winters' multiplicative method  128.37  21.27\n",
       "0             Autoregressive (AR) method  275.89  43.00\n",
       "0             Moving Average (MA) method  305.04  50.00\n",
       "0                                   ARMA  200.50  29.00\n",
       "0                                  ARIMA  109.33  15.00"
      ]
     },
     "execution_count": 34,
     "metadata": {},
     "output_type": "execute_result"
    }
   ],
   "source": [
    "rmse=np.sqrt(mean_squared_error(test,forecast_ARIMA)).round(2)\n",
    "mape=mean_absolute_percentage_error(test,forecast_ARIMA).round(2)*100\n",
    "\n",
    "tempResults = pd.DataFrame({'Method':['ARIMA'], 'RMSE': [rmse],'MAPE': [mape] })\n",
    "results = pd.concat([results, tempResults])\n",
    "results = results[['Method', 'RMSE', 'MAPE']]\n",
    "results"
   ]
  },
  {
   "cell_type": "markdown",
   "id": "5eb22a63",
   "metadata": {},
   "source": [
    "* After hyperparameter tunning This method's performanace is best amongs all."
   ]
  },
  {
   "cell_type": "raw",
   "id": "43de79a5",
   "metadata": {},
   "source": []
  },
  {
   "cell_type": "markdown",
   "id": "ad1bb88f",
   "metadata": {},
   "source": [
    "### 12. Seasonal auto regressive integrated moving average (SARIMA)"
   ]
  },
  {
   "cell_type": "code",
   "execution_count": 35,
   "id": "c1d13b5c",
   "metadata": {},
   "outputs": [
    {
     "data": {
      "text/plain": [
       "2021-07-01    445.247695\n",
       "2021-08-01    471.319460\n",
       "2021-09-01    443.892991\n",
       "2021-10-01    427.619465\n",
       "2021-11-01    546.430200\n",
       "2021-12-01    434.876185\n",
       "Freq: MS, Name: predicted_mean, dtype: float64"
      ]
     },
     "execution_count": 35,
     "metadata": {},
     "output_type": "execute_result"
    }
   ],
   "source": [
    "from statsmodels.tsa.statespace.sarimax import SARIMAX\n",
    "\n",
    "model = SARIMAX(train, order=(1,1,1), seasonal_order=(1, 1, 1, 12)) \n",
    "model_fit = model.fit()\n",
    "forcast_SARIMA=model_fit.predict(start=len(train), end=len(df)-1)\n",
    "forcast_SARIMA"
   ]
  },
  {
   "cell_type": "markdown",
   "id": "0e3d7bda",
   "metadata": {},
   "source": [
    "#### To choose better values of order & seasonal_order use itertool method."
   ]
  },
  {
   "cell_type": "code",
   "execution_count": 41,
   "id": "7b0cf0dd",
   "metadata": {},
   "outputs": [
    {
     "data": {
      "text/plain": [
       "Text(0.5, 1.0, 'Seasonal Auto Regression Integraed Moving Average (SARIMA) Method')"
      ]
     },
     "execution_count": 41,
     "metadata": {},
     "output_type": "execute_result"
    },
    {
     "data": {
      "image/png": "[encoded data removed]",
      "text/plain": [
       "<Figure size 864x288 with 1 Axes>"
      ]
     },
     "metadata": {
      "needs_background": "light"
     },
     "output_type": "display_data"
    }
   ],
   "source": [
    "plt.figure(figsize=(12,4))\n",
    "plt.plot(train, label=\"Train\")\n",
    "plt.plot(test, label=\"Test\")\n",
    "plt.plot(forcast_SARIMA, label=\"Forecasted\")\n",
    "plt.legend()\n",
    "plt.title(\"Seasonal Auto Regression Integraed Moving Average (SARIMA) Method\")"
   ]
  },
  {
   "cell_type": "code",
   "execution_count": 42,
   "id": "25dee005",
   "metadata": {},
   "outputs": [
    {
     "data": {
      "text/html": [
       "<div>\n",
       "<style scoped>\n",
       "    .dataframe tbody tr th:only-of-type {\n",
       "        vertical-align: middle;\n",
       "    }\n",
       "\n",
       "    .dataframe tbody tr th {\n",
       "        vertical-align: top;\n",
       "    }\n",
       "\n",
       "    .dataframe thead th {\n",
       "        text-align: right;\n",
       "    }\n",
       "</style>\n",
       "<table border=\"1\" class=\"dataframe\">\n",
       "  <thead>\n",
       "    <tr style=\"text-align: right;\">\n",
       "      <th></th>\n",
       "      <th>Method</th>\n",
       "      <th>RMSE</th>\n",
       "      <th>MAPE</th>\n",
       "    </tr>\n",
       "  </thead>\n",
       "  <tbody>\n",
       "    <tr>\n",
       "      <th>0</th>\n",
       "      <td>Naive method</td>\n",
       "      <td>155.90</td>\n",
       "      <td>22.05</td>\n",
       "    </tr>\n",
       "    <tr>\n",
       "      <th>0</th>\n",
       "      <td>Simple average method</td>\n",
       "      <td>313.18</td>\n",
       "      <td>51.69</td>\n",
       "    </tr>\n",
       "    <tr>\n",
       "      <th>0</th>\n",
       "      <td>Simple moving average forecast</td>\n",
       "      <td>229.90</td>\n",
       "      <td>35.34</td>\n",
       "    </tr>\n",
       "    <tr>\n",
       "      <th>0</th>\n",
       "      <td>Simple exponential smoothing forecast</td>\n",
       "      <td>182.55</td>\n",
       "      <td>25.53</td>\n",
       "    </tr>\n",
       "    <tr>\n",
       "      <th>0</th>\n",
       "      <td>Holt's exponential smoothing method</td>\n",
       "      <td>117.88</td>\n",
       "      <td>16.84</td>\n",
       "    </tr>\n",
       "    <tr>\n",
       "      <th>0</th>\n",
       "      <td>Holt Winters' additive method</td>\n",
       "      <td>111.15</td>\n",
       "      <td>17.16</td>\n",
       "    </tr>\n",
       "    <tr>\n",
       "      <th>0</th>\n",
       "      <td>Holt Winters' multiplicative method</td>\n",
       "      <td>128.37</td>\n",
       "      <td>21.27</td>\n",
       "    </tr>\n",
       "    <tr>\n",
       "      <th>0</th>\n",
       "      <td>Autoregressive (AR) method</td>\n",
       "      <td>275.89</td>\n",
       "      <td>43.00</td>\n",
       "    </tr>\n",
       "    <tr>\n",
       "      <th>0</th>\n",
       "      <td>Moving Average (MA) method</td>\n",
       "      <td>305.04</td>\n",
       "      <td>50.00</td>\n",
       "    </tr>\n",
       "    <tr>\n",
       "      <th>0</th>\n",
       "      <td>ARMA</td>\n",
       "      <td>200.50</td>\n",
       "      <td>29.00</td>\n",
       "    </tr>\n",
       "    <tr>\n",
       "      <th>0</th>\n",
       "      <td>ARIMA</td>\n",
       "      <td>109.33</td>\n",
       "      <td>15.00</td>\n",
       "    </tr>\n",
       "    <tr>\n",
       "      <th>0</th>\n",
       "      <td>SARIMA</td>\n",
       "      <td>145.01</td>\n",
       "      <td>20.00</td>\n",
       "    </tr>\n",
       "  </tbody>\n",
       "</table>\n",
       "</div>"
      ],
      "text/plain": [
       "                                  Method    RMSE   MAPE\n",
       "0                           Naive method  155.90  22.05\n",
       "0                  Simple average method  313.18  51.69\n",
       "0         Simple moving average forecast  229.90  35.34\n",
       "0  Simple exponential smoothing forecast  182.55  25.53\n",
       "0    Holt's exponential smoothing method  117.88  16.84\n",
       "0          Holt Winters' additive method  111.15  17.16\n",
       "0    Holt Winters' multiplicative method  128.37  21.27\n",
       "0             Autoregressive (AR) method  275.89  43.00\n",
       "0             Moving Average (MA) method  305.04  50.00\n",
       "0                                   ARMA  200.50  29.00\n",
       "0                                  ARIMA  109.33  15.00\n",
       "0                                 SARIMA  145.01  20.00"
      ]
     },
     "execution_count": 42,
     "metadata": {},
     "output_type": "execute_result"
    }
   ],
   "source": [
    "rmse=np.sqrt(mean_squared_error(test,forcast_SARIMA)).round(2)\n",
    "mape=mean_absolute_percentage_error(test,forcast_SARIMA).round(2)*100\n",
    "\n",
    "tempResults = pd.DataFrame({'Method':['SARIMA'], 'RMSE': [rmse],'MAPE': [mape] })\n",
    "results = pd.concat([results, tempResults])\n",
    "results = results[['Method', 'RMSE', 'MAPE']]\n",
    "results"
   ]
  },
  {
   "cell_type": "markdown",
   "id": "6aaa5eb6",
   "metadata": {},
   "source": [
    "* SARIMA model can be preffered."
   ]
  },
  {
   "cell_type": "markdown",
   "id": "7524a8a3",
   "metadata": {},
   "source": [
    "**Conclusion** : **Our inference from the flow chart and the actual models built for forecasting the sales of the time series data, show that:**\n",
    "\n",
    "**1. Auto regressive integrated moving average (ARIMA) technique.**\n",
    "\n",
    "**2. Holt Winters' additive method.**\n",
    "\n",
    "**3. Holt's exponential smoothing method**\n",
    "\n",
    "**are the best for forecasting the sales for the data.**\n",
    "\n",
    "**Above all three methods have lower RMSE and MAPE values and are able to capture the trend and seasonality components well in the data.**"
   ]
  },
  {
   "cell_type": "code",
   "execution_count": null,
   "id": "b17ce043",
   "metadata": {},
   "outputs": [],
   "source": []
  }
 ],
 "metadata": {
  "kernelspec": {
   "display_name": "Python 3 (ipykernel)",
   "language": "python",
   "name": "python3"
  },
  "language_info": {
   "codemirror_mode": {
    "name": "ipython",
    "version": 3
   },
   "file_extension": ".py",
   "mimetype": "text/x-python",
   "name": "python",
   "nbconvert_exporter": "python",
   "pygments_lexer": "ipython3",
   "version": "3.9.7"
  }
 },
 "nbformat": 4,
 "nbformat_minor": 5
}
