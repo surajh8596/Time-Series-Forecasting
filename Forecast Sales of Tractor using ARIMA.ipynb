{
 "cells": [
  {
   "cell_type": "markdown",
   "id": "5149f67a",
   "metadata": {},
   "source": [
    "### Import required libraries"
   ]
  },
  {
   "cell_type": "code",
   "execution_count": 1,
   "id": "6f8d1d07",
   "metadata": {},
   "outputs": [],
   "source": [
    "import pandas as pd\n",
    "import numpy as np\n",
    "import matplotlib.pyplot as plt\n",
    "import seaborn as sns\n",
    "import warnings\n",
    "warnings.filterwarnings('ignore')"
   ]
  },
  {
   "cell_type": "markdown",
   "id": "fdff0e85",
   "metadata": {},
   "source": [
    "### Load & Read Data"
   ]
  },
  {
   "cell_type": "code",
   "execution_count": 2,
   "id": "f243baab",
   "metadata": {},
   "outputs": [
    {
     "data": {
      "text/html": [
       "<div>\n",
       "<style scoped>\n",
       "    .dataframe tbody tr th:only-of-type {\n",
       "        vertical-align: middle;\n",
       "    }\n",
       "\n",
       "    .dataframe tbody tr th {\n",
       "        vertical-align: top;\n",
       "    }\n",
       "\n",
       "    .dataframe thead th {\n",
       "        text-align: right;\n",
       "    }\n",
       "</style>\n",
       "<table border=\"1\" class=\"dataframe\">\n",
       "  <thead>\n",
       "    <tr style=\"text-align: right;\">\n",
       "      <th></th>\n",
       "      <th>Month-Year</th>\n",
       "      <th>Number of Tractor Sold</th>\n",
       "    </tr>\n",
       "  </thead>\n",
       "  <tbody>\n",
       "    <tr>\n",
       "      <th>0</th>\n",
       "      <td>Jan-03</td>\n",
       "      <td>141</td>\n",
       "    </tr>\n",
       "    <tr>\n",
       "      <th>1</th>\n",
       "      <td>Feb-03</td>\n",
       "      <td>157</td>\n",
       "    </tr>\n",
       "    <tr>\n",
       "      <th>2</th>\n",
       "      <td>Mar-03</td>\n",
       "      <td>185</td>\n",
       "    </tr>\n",
       "    <tr>\n",
       "      <th>3</th>\n",
       "      <td>Apr-03</td>\n",
       "      <td>199</td>\n",
       "    </tr>\n",
       "    <tr>\n",
       "      <th>4</th>\n",
       "      <td>May-03</td>\n",
       "      <td>203</td>\n",
       "    </tr>\n",
       "    <tr>\n",
       "      <th>...</th>\n",
       "      <td>...</td>\n",
       "      <td>...</td>\n",
       "    </tr>\n",
       "    <tr>\n",
       "      <th>139</th>\n",
       "      <td>Aug-14</td>\n",
       "      <td>848</td>\n",
       "    </tr>\n",
       "    <tr>\n",
       "      <th>140</th>\n",
       "      <td>Sep-14</td>\n",
       "      <td>640</td>\n",
       "    </tr>\n",
       "    <tr>\n",
       "      <th>141</th>\n",
       "      <td>Oct-14</td>\n",
       "      <td>581</td>\n",
       "    </tr>\n",
       "    <tr>\n",
       "      <th>142</th>\n",
       "      <td>Nov-14</td>\n",
       "      <td>519</td>\n",
       "    </tr>\n",
       "    <tr>\n",
       "      <th>143</th>\n",
       "      <td>Dec-14</td>\n",
       "      <td>605</td>\n",
       "    </tr>\n",
       "  </tbody>\n",
       "</table>\n",
       "<p>144 rows × 2 columns</p>\n",
       "</div>"
      ],
      "text/plain": [
       "    Month-Year  Number of Tractor Sold\n",
       "0       Jan-03                     141\n",
       "1       Feb-03                     157\n",
       "2       Mar-03                     185\n",
       "3       Apr-03                     199\n",
       "4       May-03                     203\n",
       "..         ...                     ...\n",
       "139     Aug-14                     848\n",
       "140     Sep-14                     640\n",
       "141     Oct-14                     581\n",
       "142     Nov-14                     519\n",
       "143     Dec-14                     605\n",
       "\n",
       "[144 rows x 2 columns]"
      ]
     },
     "execution_count": 2,
     "metadata": {},
     "output_type": "execute_result"
    }
   ],
   "source": [
    "df=pd.read_csv('D:\\PGP IN DATA SCIENCE with Careerera\\Data Sets\\data-for-time-series\\\\Tractor-Sales.csv')\n",
    "df"
   ]
  },
  {
   "cell_type": "code",
   "execution_count": 3,
   "id": "26affe4a",
   "metadata": {},
   "outputs": [
    {
     "data": {
      "text/plain": [
       "(144, 2)"
      ]
     },
     "execution_count": 3,
     "metadata": {},
     "output_type": "execute_result"
    }
   ],
   "source": [
    "df.shape"
   ]
  },
  {
   "cell_type": "code",
   "execution_count": 4,
   "id": "8d6e878d",
   "metadata": {},
   "outputs": [
    {
     "data": {
      "text/plain": [
       "288"
      ]
     },
     "execution_count": 4,
     "metadata": {},
     "output_type": "execute_result"
    }
   ],
   "source": [
    "df.size"
   ]
  },
  {
   "cell_type": "code",
   "execution_count": 5,
   "id": "5cf6ac57",
   "metadata": {
    "scrolled": true
   },
   "outputs": [
    {
     "data": {
      "text/plain": [
       "Index(['Month-Year', 'Number of Tractor Sold'], dtype='object')"
      ]
     },
     "execution_count": 5,
     "metadata": {},
     "output_type": "execute_result"
    }
   ],
   "source": [
    "df.columns"
   ]
  },
  {
   "cell_type": "code",
   "execution_count": 6,
   "id": "c343f8c0",
   "metadata": {},
   "outputs": [
    {
     "data": {
      "text/plain": [
       "Month-Year                object\n",
       "Number of Tractor Sold     int64\n",
       "dtype: object"
      ]
     },
     "execution_count": 6,
     "metadata": {},
     "output_type": "execute_result"
    }
   ],
   "source": [
    "df.dtypes"
   ]
  },
  {
   "cell_type": "code",
   "execution_count": 7,
   "id": "72521838",
   "metadata": {},
   "outputs": [
    {
     "name": "stdout",
     "output_type": "stream",
     "text": [
      "<class 'pandas.core.frame.DataFrame'>\n",
      "RangeIndex: 144 entries, 0 to 143\n",
      "Data columns (total 2 columns):\n",
      " #   Column                  Non-Null Count  Dtype \n",
      "---  ------                  --------------  ----- \n",
      " 0   Month-Year              144 non-null    object\n",
      " 1   Number of Tractor Sold  144 non-null    int64 \n",
      "dtypes: int64(1), object(1)\n",
      "memory usage: 2.4+ KB\n"
     ]
    }
   ],
   "source": [
    "df.info()"
   ]
  },
  {
   "cell_type": "code",
   "execution_count": 8,
   "id": "a5c76faa",
   "metadata": {},
   "outputs": [
    {
     "data": {
      "text/html": [
       "<div>\n",
       "<style scoped>\n",
       "    .dataframe tbody tr th:only-of-type {\n",
       "        vertical-align: middle;\n",
       "    }\n",
       "\n",
       "    .dataframe tbody tr th {\n",
       "        vertical-align: top;\n",
       "    }\n",
       "\n",
       "    .dataframe thead th {\n",
       "        text-align: right;\n",
       "    }\n",
       "</style>\n",
       "<table border=\"1\" class=\"dataframe\">\n",
       "  <thead>\n",
       "    <tr style=\"text-align: right;\">\n",
       "      <th></th>\n",
       "      <th>Number of Tractor Sold</th>\n",
       "    </tr>\n",
       "  </thead>\n",
       "  <tbody>\n",
       "    <tr>\n",
       "      <th>count</th>\n",
       "      <td>144.000000</td>\n",
       "    </tr>\n",
       "    <tr>\n",
       "      <th>mean</th>\n",
       "      <td>389.694444</td>\n",
       "    </tr>\n",
       "    <tr>\n",
       "      <th>std</th>\n",
       "      <td>171.500016</td>\n",
       "    </tr>\n",
       "    <tr>\n",
       "      <th>min</th>\n",
       "      <td>138.000000</td>\n",
       "    </tr>\n",
       "    <tr>\n",
       "      <th>10%</th>\n",
       "      <td>196.300000</td>\n",
       "    </tr>\n",
       "    <tr>\n",
       "      <th>25%</th>\n",
       "      <td>248.500000</td>\n",
       "    </tr>\n",
       "    <tr>\n",
       "      <th>50%</th>\n",
       "      <td>369.000000</td>\n",
       "    </tr>\n",
       "    <tr>\n",
       "      <th>75%</th>\n",
       "      <td>509.250000</td>\n",
       "    </tr>\n",
       "    <tr>\n",
       "      <th>95%</th>\n",
       "      <td>706.850000</td>\n",
       "    </tr>\n",
       "    <tr>\n",
       "      <th>99%</th>\n",
       "      <td>824.350000</td>\n",
       "    </tr>\n",
       "    <tr>\n",
       "      <th>max</th>\n",
       "      <td>871.000000</td>\n",
       "    </tr>\n",
       "  </tbody>\n",
       "</table>\n",
       "</div>"
      ],
      "text/plain": [
       "       Number of Tractor Sold\n",
       "count              144.000000\n",
       "mean               389.694444\n",
       "std                171.500016\n",
       "min                138.000000\n",
       "10%                196.300000\n",
       "25%                248.500000\n",
       "50%                369.000000\n",
       "75%                509.250000\n",
       "95%                706.850000\n",
       "99%                824.350000\n",
       "max                871.000000"
      ]
     },
     "execution_count": 8,
     "metadata": {},
     "output_type": "execute_result"
    }
   ],
   "source": [
    "df.describe(percentiles=[0.10,0.25,0.50,0.75,0.95,0.99])"
   ]
  },
  {
   "cell_type": "code",
   "execution_count": 9,
   "id": "4da880be",
   "metadata": {},
   "outputs": [
    {
     "data": {
      "text/html": [
       "<div>\n",
       "<style scoped>\n",
       "    .dataframe tbody tr th:only-of-type {\n",
       "        vertical-align: middle;\n",
       "    }\n",
       "\n",
       "    .dataframe tbody tr th {\n",
       "        vertical-align: top;\n",
       "    }\n",
       "\n",
       "    .dataframe thead th {\n",
       "        text-align: right;\n",
       "    }\n",
       "</style>\n",
       "<table border=\"1\" class=\"dataframe\">\n",
       "  <thead>\n",
       "    <tr style=\"text-align: right;\">\n",
       "      <th></th>\n",
       "      <th>Month-Year</th>\n",
       "      <th>Number of Tractor Sold</th>\n",
       "      <th>Date</th>\n",
       "    </tr>\n",
       "  </thead>\n",
       "  <tbody>\n",
       "    <tr>\n",
       "      <th>0</th>\n",
       "      <td>Jan-03</td>\n",
       "      <td>141</td>\n",
       "      <td>2003-01-01</td>\n",
       "    </tr>\n",
       "    <tr>\n",
       "      <th>1</th>\n",
       "      <td>Feb-03</td>\n",
       "      <td>157</td>\n",
       "      <td>2003-02-01</td>\n",
       "    </tr>\n",
       "    <tr>\n",
       "      <th>2</th>\n",
       "      <td>Mar-03</td>\n",
       "      <td>185</td>\n",
       "      <td>2003-03-01</td>\n",
       "    </tr>\n",
       "    <tr>\n",
       "      <th>3</th>\n",
       "      <td>Apr-03</td>\n",
       "      <td>199</td>\n",
       "      <td>2003-04-01</td>\n",
       "    </tr>\n",
       "    <tr>\n",
       "      <th>4</th>\n",
       "      <td>May-03</td>\n",
       "      <td>203</td>\n",
       "      <td>2003-05-01</td>\n",
       "    </tr>\n",
       "  </tbody>\n",
       "</table>\n",
       "</div>"
      ],
      "text/plain": [
       "  Month-Year  Number of Tractor Sold       Date\n",
       "0     Jan-03                     141 2003-01-01\n",
       "1     Feb-03                     157 2003-02-01\n",
       "2     Mar-03                     185 2003-03-01\n",
       "3     Apr-03                     199 2003-04-01\n",
       "4     May-03                     203 2003-05-01"
      ]
     },
     "execution_count": 9,
     "metadata": {},
     "output_type": "execute_result"
    }
   ],
   "source": [
    "df['Date']=pd.to_datetime(df['Month-Year'], format='%b-%y')\n",
    "df.head()"
   ]
  },
  {
   "cell_type": "code",
   "execution_count": null,
   "id": "f2b9e4a0",
   "metadata": {},
   "outputs": [],
   "source": []
  },
  {
   "cell_type": "code",
   "execution_count": 10,
   "id": "ca89d8ca",
   "metadata": {
    "scrolled": true
   },
   "outputs": [
    {
     "data": {
      "text/html": [
       "<div>\n",
       "<style scoped>\n",
       "    .dataframe tbody tr th:only-of-type {\n",
       "        vertical-align: middle;\n",
       "    }\n",
       "\n",
       "    .dataframe tbody tr th {\n",
       "        vertical-align: top;\n",
       "    }\n",
       "\n",
       "    .dataframe thead th {\n",
       "        text-align: right;\n",
       "    }\n",
       "</style>\n",
       "<table border=\"1\" class=\"dataframe\">\n",
       "  <thead>\n",
       "    <tr style=\"text-align: right;\">\n",
       "      <th></th>\n",
       "      <th>Sales</th>\n",
       "    </tr>\n",
       "    <tr>\n",
       "      <th>Date</th>\n",
       "      <th></th>\n",
       "    </tr>\n",
       "  </thead>\n",
       "  <tbody>\n",
       "    <tr>\n",
       "      <th>2003-01-01</th>\n",
       "      <td>141</td>\n",
       "    </tr>\n",
       "    <tr>\n",
       "      <th>2003-02-01</th>\n",
       "      <td>157</td>\n",
       "    </tr>\n",
       "    <tr>\n",
       "      <th>2003-03-01</th>\n",
       "      <td>185</td>\n",
       "    </tr>\n",
       "    <tr>\n",
       "      <th>2003-04-01</th>\n",
       "      <td>199</td>\n",
       "    </tr>\n",
       "    <tr>\n",
       "      <th>2003-05-01</th>\n",
       "      <td>203</td>\n",
       "    </tr>\n",
       "  </tbody>\n",
       "</table>\n",
       "</div>"
      ],
      "text/plain": [
       "            Sales\n",
       "Date             \n",
       "2003-01-01    141\n",
       "2003-02-01    157\n",
       "2003-03-01    185\n",
       "2003-04-01    199\n",
       "2003-05-01    203"
      ]
     },
     "execution_count": 10,
     "metadata": {},
     "output_type": "execute_result"
    }
   ],
   "source": [
    "ts=df.drop('Month-Year', axis=1)\n",
    "ts.rename({'Number of Tractor Sold':'Sales'},axis=1, inplace=True)\n",
    "ts.set_index('Date', inplace=True)\n",
    "ts.head()"
   ]
  },
  {
   "cell_type": "code",
   "execution_count": 11,
   "id": "cdaa8bf0",
   "metadata": {},
   "outputs": [
    {
     "data": {
      "image/png": "[encoded data removed]",
      "text/plain": [
       "<Figure size 432x288 with 1 Axes>"
      ]
     },
     "metadata": {
      "needs_background": "light"
     },
     "output_type": "display_data"
    }
   ],
   "source": [
    "plt.plot(ts);"
   ]
  },
  {
   "cell_type": "markdown",
   "id": "6525b7ea",
   "metadata": {},
   "source": [
    "### Stationary Check"
   ]
  },
  {
   "cell_type": "code",
   "execution_count": 12,
   "id": "5e7c1804",
   "metadata": {},
   "outputs": [
    {
     "data": {
      "image/png": "[encoded data removed]",
      "text/plain": [
       "<Figure size 432x288 with 4 Axes>"
      ]
     },
     "metadata": {
      "needs_background": "light"
     },
     "output_type": "display_data"
    }
   ],
   "source": [
    "import statsmodels.api as sm\n",
    "decomposition=sm.tsa.seasonal_decompose(ts,model='additive')\n",
    "fig=decomposition.plot();"
   ]
  },
  {
   "cell_type": "code",
   "execution_count": 13,
   "id": "4f463203",
   "metadata": {},
   "outputs": [
    {
     "name": "stdout",
     "output_type": "stream",
     "text": [
      "p-value 0.9952912415248419\n"
     ]
    }
   ],
   "source": [
    "from statsmodels.tsa.stattools import adfuller\n",
    "adf_test=adfuller(ts)\n",
    "print(\"p-value\", adf_test[1])"
   ]
  },
  {
   "cell_type": "markdown",
   "id": "b89cbbeb",
   "metadata": {},
   "source": [
    "p-value is greater than 0.05 hence series is not stationary."
   ]
  },
  {
   "cell_type": "markdown",
   "id": "478b3558",
   "metadata": {},
   "source": [
    "#### Train Test split"
   ]
  },
  {
   "cell_type": "code",
   "execution_count": 14,
   "id": "95159e3c",
   "metadata": {},
   "outputs": [
    {
     "data": {
      "text/plain": [
       "(144, 1)"
      ]
     },
     "execution_count": 14,
     "metadata": {},
     "output_type": "execute_result"
    }
   ],
   "source": [
    "ts.shape"
   ]
  },
  {
   "cell_type": "code",
   "execution_count": 15,
   "id": "289413d3",
   "metadata": {},
   "outputs": [
    {
     "name": "stdout",
     "output_type": "stream",
     "text": [
      "(132, 1)\n",
      "(12, 1)\n"
     ]
    }
   ],
   "source": [
    "train=ts[:132]\n",
    "test=ts[132:]\n",
    "print(train.shape)\n",
    "print(test.shape)"
   ]
  },
  {
   "cell_type": "markdown",
   "id": "ed4b80d7",
   "metadata": {},
   "source": [
    "#### Hyperparameter of ARIMA model p,d,q"
   ]
  },
  {
   "cell_type": "markdown",
   "id": "325d595a",
   "metadata": {},
   "source": [
    "* **AR order we get \"p\"**\n",
    "* **MA order we get \"q\"**\n",
    "* **Integrated order we get \"d\"**"
   ]
  },
  {
   "cell_type": "markdown",
   "id": "2744c98f",
   "metadata": {},
   "source": [
    "#### Build ARIMA model"
   ]
  },
  {
   "cell_type": "code",
   "execution_count": 16,
   "id": "d7ee06e0",
   "metadata": {},
   "outputs": [
    {
     "name": "stdout",
     "output_type": "stream",
     "text": [
      "ar.L1       -0.664008\n",
      "ma.L1        0.961243\n",
      "sigma2    2363.824312\n",
      "dtype: float64\n"
     ]
    }
   ],
   "source": [
    "warnings.filterwarnings('ignore')\n",
    "import statsmodels.api as sm\n",
    "model=sm.tsa.arima.ARIMA(train,order=(1, 1, 1))\n",
    "model_fit = model.fit()\n",
    "print(model_fit.params)"
   ]
  },
  {
   "cell_type": "markdown",
   "id": "3d8f1bc9",
   "metadata": {},
   "source": [
    "#### Prediction"
   ]
  },
  {
   "cell_type": "code",
   "execution_count": 17,
   "id": "3dce9fb6",
   "metadata": {},
   "outputs": [
    {
     "data": {
      "text/plain": [
       "(132, 144)"
      ]
     },
     "execution_count": 17,
     "metadata": {},
     "output_type": "execute_result"
    }
   ],
   "source": [
    "len(train),len(ts)"
   ]
  },
  {
   "cell_type": "code",
   "execution_count": 18,
   "id": "7c936691",
   "metadata": {},
   "outputs": [
    {
     "data": {
      "text/plain": [
       "2014-01-01    599.588443\n",
       "2014-02-01    577.949443\n",
       "2014-03-01    592.317921\n",
       "2014-04-01    582.777131\n",
       "2014-05-01    589.112296\n",
       "2014-06-01    584.905693\n",
       "2014-07-01    587.698912\n",
       "2014-08-01    585.844191\n",
       "2014-09-01    587.075742\n",
       "2014-10-01    586.257982\n",
       "2014-11-01    586.800981\n",
       "2014-12-01    586.440425\n",
       "Freq: MS, Name: predicted_mean, dtype: float64"
      ]
     },
     "execution_count": 18,
     "metadata": {},
     "output_type": "execute_result"
    }
   ],
   "source": [
    "pred=model_fit.predict(start=len(train), end=len(ts)-1)\n",
    "pred"
   ]
  },
  {
   "cell_type": "markdown",
   "id": "0be052a2",
   "metadata": {},
   "source": [
    "#### Evaluate model"
   ]
  },
  {
   "cell_type": "code",
   "execution_count": 19,
   "id": "9d7886d7",
   "metadata": {},
   "outputs": [
    {
     "name": "stdout",
     "output_type": "stream",
     "text": [
      "RMSE 144.4494948890788\n"
     ]
    }
   ],
   "source": [
    "from sklearn.metrics import mean_squared_error\n",
    "RMSE=np.sqrt(mean_squared_error(test,pred))\n",
    "print(\"RMSE\", RMSE)"
   ]
  },
  {
   "cell_type": "code",
   "execution_count": 20,
   "id": "516e72dc",
   "metadata": {},
   "outputs": [
    {
     "data": {
      "image/png": "[encoded data removed]",
      "text/plain": [
       "<Figure size 1296x360 with 1 Axes>"
      ]
     },
     "metadata": {
      "needs_background": "light"
     },
     "output_type": "display_data"
    }
   ],
   "source": [
    "plt.figure(figsize=(18,5))\n",
    "plt.plot(train, label=\"Train Set\")\n",
    "plt.plot(test, label=\"Test Set\")\n",
    "plt.plot(pred, label=\"Prediction Set\")\n",
    "plt.legend();"
   ]
  },
  {
   "cell_type": "raw",
   "id": "434fb063",
   "metadata": {},
   "source": []
  },
  {
   "cell_type": "markdown",
   "id": "f3e7b345",
   "metadata": {},
   "source": [
    "#### Hyperparameter selection"
   ]
  },
  {
   "cell_type": "code",
   "execution_count": 21,
   "id": "4ad5e640",
   "metadata": {},
   "outputs": [
    {
     "data": {
      "text/plain": [
       "128"
      ]
     },
     "execution_count": 21,
     "metadata": {},
     "output_type": "execute_result"
    }
   ],
   "source": [
    "import itertools\n",
    "p=range(0,8)\n",
    "q=range(0,8)\n",
    "d=range(0,2)\n",
    "pdq=list(itertools.product(p,d,q))\n",
    "len(pdq)"
   ]
  },
  {
   "cell_type": "code",
   "execution_count": 22,
   "id": "9f6b42c8",
   "metadata": {
    "scrolled": true
   },
   "outputs": [
    {
     "data": {
      "text/plain": [
       "144"
      ]
     },
     "execution_count": 22,
     "metadata": {},
     "output_type": "execute_result"
    }
   ],
   "source": [
    "len(ts)"
   ]
  },
  {
   "cell_type": "code",
   "execution_count": 23,
   "id": "2f44d872",
   "metadata": {},
   "outputs": [],
   "source": [
    "warnings.filterwarnings('ignore')\n",
    "rmse=[]\n",
    "order1=[]\n",
    "for pdq in pdq:\n",
    "    try:\n",
    "        model=sm.tsa.arima.ARIMA(train, order=pdq).fit()\n",
    "        pred=model.predict(start=len(train), end=len(ts)-1)\n",
    "        error=np.sqrt(mean_squared_error(pred,test))\n",
    "        order1.append(pdq)\n",
    "        rmse.append(error)\n",
    "    except:\n",
    "        continue"
   ]
  },
  {
   "cell_type": "code",
   "execution_count": 24,
   "id": "0f4a4c9c",
   "metadata": {},
   "outputs": [
    {
     "data": {
      "text/html": [
       "<div>\n",
       "<style scoped>\n",
       "    .dataframe tbody tr th:only-of-type {\n",
       "        vertical-align: middle;\n",
       "    }\n",
       "\n",
       "    .dataframe tbody tr th {\n",
       "        vertical-align: top;\n",
       "    }\n",
       "\n",
       "    .dataframe thead th {\n",
       "        text-align: right;\n",
       "    }\n",
       "</style>\n",
       "<table border=\"1\" class=\"dataframe\">\n",
       "  <thead>\n",
       "    <tr style=\"text-align: right;\">\n",
       "      <th></th>\n",
       "      <th>RMSE</th>\n",
       "    </tr>\n",
       "  </thead>\n",
       "  <tbody>\n",
       "    <tr>\n",
       "      <th>(0, 0, 0)</th>\n",
       "      <td>321.732876</td>\n",
       "    </tr>\n",
       "    <tr>\n",
       "      <th>(0, 0, 1)</th>\n",
       "      <td>318.240308</td>\n",
       "    </tr>\n",
       "    <tr>\n",
       "      <th>(0, 0, 2)</th>\n",
       "      <td>316.909977</td>\n",
       "    </tr>\n",
       "    <tr>\n",
       "      <th>(0, 0, 3)</th>\n",
       "      <td>316.427838</td>\n",
       "    </tr>\n",
       "    <tr>\n",
       "      <th>(0, 0, 4)</th>\n",
       "      <td>302.525196</td>\n",
       "    </tr>\n",
       "    <tr>\n",
       "      <th>...</th>\n",
       "      <td>...</td>\n",
       "    </tr>\n",
       "    <tr>\n",
       "      <th>(7, 1, 3)</th>\n",
       "      <td>84.369154</td>\n",
       "    </tr>\n",
       "    <tr>\n",
       "      <th>(7, 1, 4)</th>\n",
       "      <td>98.886555</td>\n",
       "    </tr>\n",
       "    <tr>\n",
       "      <th>(7, 1, 5)</th>\n",
       "      <td>50.210319</td>\n",
       "    </tr>\n",
       "    <tr>\n",
       "      <th>(7, 1, 6)</th>\n",
       "      <td>46.360959</td>\n",
       "    </tr>\n",
       "    <tr>\n",
       "      <th>(7, 1, 7)</th>\n",
       "      <td>66.223925</td>\n",
       "    </tr>\n",
       "  </tbody>\n",
       "</table>\n",
       "<p>128 rows × 1 columns</p>\n",
       "</div>"
      ],
      "text/plain": [
       "                 RMSE\n",
       "(0, 0, 0)  321.732876\n",
       "(0, 0, 1)  318.240308\n",
       "(0, 0, 2)  316.909977\n",
       "(0, 0, 3)  316.427838\n",
       "(0, 0, 4)  302.525196\n",
       "...               ...\n",
       "(7, 1, 3)   84.369154\n",
       "(7, 1, 4)   98.886555\n",
       "(7, 1, 5)   50.210319\n",
       "(7, 1, 6)   46.360959\n",
       "(7, 1, 7)   66.223925\n",
       "\n",
       "[128 rows x 1 columns]"
      ]
     },
     "execution_count": 24,
     "metadata": {},
     "output_type": "execute_result"
    }
   ],
   "source": [
    "results=pd.DataFrame(data=rmse, index=order1, columns=['RMSE'])\n",
    "results"
   ]
  },
  {
   "cell_type": "code",
   "execution_count": 25,
   "id": "78a63274",
   "metadata": {},
   "outputs": [
    {
     "data": {
      "text/html": [
       "<div>\n",
       "<style scoped>\n",
       "    .dataframe tbody tr th:only-of-type {\n",
       "        vertical-align: middle;\n",
       "    }\n",
       "\n",
       "    .dataframe tbody tr th {\n",
       "        vertical-align: top;\n",
       "    }\n",
       "\n",
       "    .dataframe thead th {\n",
       "        text-align: right;\n",
       "    }\n",
       "</style>\n",
       "<table border=\"1\" class=\"dataframe\">\n",
       "  <thead>\n",
       "    <tr style=\"text-align: right;\">\n",
       "      <th></th>\n",
       "      <th>RMSE</th>\n",
       "    </tr>\n",
       "  </thead>\n",
       "  <tbody>\n",
       "    <tr>\n",
       "      <th>(6, 1, 7)</th>\n",
       "      <td>43.805148</td>\n",
       "    </tr>\n",
       "    <tr>\n",
       "      <th>(7, 1, 6)</th>\n",
       "      <td>46.360959</td>\n",
       "    </tr>\n",
       "    <tr>\n",
       "      <th>(7, 1, 5)</th>\n",
       "      <td>50.210319</td>\n",
       "    </tr>\n",
       "    <tr>\n",
       "      <th>(6, 1, 6)</th>\n",
       "      <td>53.350372</td>\n",
       "    </tr>\n",
       "    <tr>\n",
       "      <th>(4, 1, 7)</th>\n",
       "      <td>56.587551</td>\n",
       "    </tr>\n",
       "  </tbody>\n",
       "</table>\n",
       "</div>"
      ],
      "text/plain": [
       "                RMSE\n",
       "(6, 1, 7)  43.805148\n",
       "(7, 1, 6)  46.360959\n",
       "(7, 1, 5)  50.210319\n",
       "(6, 1, 6)  53.350372\n",
       "(4, 1, 7)  56.587551"
      ]
     },
     "execution_count": 25,
     "metadata": {},
     "output_type": "execute_result"
    }
   ],
   "source": [
    "pd.pivot_table(results, values='RMSE', index=results.index, aggfunc=min).sort_values(by='RMSE', ascending=True)[:5]"
   ]
  },
  {
   "cell_type": "markdown",
   "id": "ead6e9f9",
   "metadata": {},
   "source": [
    "At p=6, d=1, q=7 the RMSE is 43 which very low compared to any other RMSE. so choosing these value we build our ARIMA model."
   ]
  },
  {
   "cell_type": "code",
   "execution_count": 26,
   "id": "099757a1",
   "metadata": {},
   "outputs": [
    {
     "name": "stdout",
     "output_type": "stream",
     "text": [
      "RMSE 43.80514841542397\n"
     ]
    }
   ],
   "source": [
    "model=sm.tsa.arima.ARIMA(train,order=(6, 1, 7))\n",
    "model_fit = model.fit()\n",
    "pred=model_fit.predict(start=len(train), end=len(ts)-1)\n",
    "pred\n",
    "RMSE=np.sqrt(mean_squared_error(test,pred))\n",
    "print(\"RMSE\", RMSE)"
   ]
  },
  {
   "cell_type": "code",
   "execution_count": 27,
   "id": "698f1fb2",
   "metadata": {},
   "outputs": [
    {
     "data": {
      "image/png": "[encoded data removed]",
      "text/plain": [
       "<Figure size 1296x360 with 1 Axes>"
      ]
     },
     "metadata": {
      "needs_background": "light"
     },
     "output_type": "display_data"
    }
   ],
   "source": [
    "plt.figure(figsize=(18,5))\n",
    "plt.plot(train, label=\"Train Set\")\n",
    "plt.plot(test, label=\"Test Set\")\n",
    "plt.plot(pred, label=\"Prediction Set\")\n",
    "plt.legend();"
   ]
  },
  {
   "cell_type": "markdown",
   "id": "7abbe655",
   "metadata": {},
   "source": [
    "**As we can observe from the test & Prediction curve, both are both same shape.. This Model is Good.**"
   ]
  },
  {
   "cell_type": "code",
   "execution_count": null,
   "id": "3370d271",
   "metadata": {},
   "outputs": [],
   "source": []
  }
 ],
 "metadata": {
  "kernelspec": {
   "display_name": "Python 3 (ipykernel)",
   "language": "python",
   "name": "python3"
  },
  "language_info": {
   "codemirror_mode": {
    "name": "ipython",
    "version": 3
   },
   "file_extension": ".py",
   "mimetype": "text/x-python",
   "name": "python",
   "nbconvert_exporter": "python",
   "pygments_lexer": "ipython3",
   "version": "3.9.7"
  }
 },
 "nbformat": 4,
 "nbformat_minor": 5
}
